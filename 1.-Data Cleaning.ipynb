{
 "cells": [
  {
   "cell_type": "markdown",
   "metadata": {},
   "source": [
    "# Descriptive Statistics Review"
   ]
  },
  {
   "cell_type": "markdown",
   "metadata": {},
   "source": [
    "![img](./diamonds.jpg)"
   ]
  },
  {
   "cell_type": "markdown",
   "metadata": {},
   "source": [
    "We will try to understand the characteristics of a diamond that are most likely to influence its price. In this part, we will explore and clean our data. \n",
    "\n",
    "The dataset we will be using is comprised of approximately 54k rows and 11 different columns. As always, a row represents a single observation (in this case a diamond) and each of the columns represent a different feature of a diamond.\n",
    "\n",
    "The following codebook was provided together with the dataset to clarify what each column represents:\n"
   ]
  },
  {
   "cell_type": "markdown",
   "metadata": {},
   "source": [
    "| Column  | Description  |\n",
    "|---|---|\n",
    "| Price  | Price in US dollars (326-18,823)  |\n",
    "| Carat  | Weight of the diamond (0.2--5.01)  |\n",
    "| Cut  | Quality of the cut (Fair, Good, Very Good, Premium, Ideal)  |\n",
    "| Color  | Diamond colour, from J (worst) to D (best)  |\n",
    "| Clarity  | A measurement of how clear the diamond is (I1 (worst), SI2, SI1, VS2, VS1, VVS2, VVS1, IF (best))   |\n",
    "| x  | Length in mm (0--10.74)  |\n",
    "| y  | Width in mm (0--58.9)  |\n",
    "| z  | Depth in mm (0--31.8)  |\n",
    "| Depth  | Total depth percentage = z / mean(x, y) = 2 * z / (x + y) (43--79)  |\n",
    "| Table  | Width of top of diamond relative to widest point (43--95)  |"
   ]
  },
  {
   "cell_type": "code",
   "execution_count": 49,
   "metadata": {},
   "outputs": [],
   "source": [
    "import pandas as pd\n",
    "import numpy as np\n",
    "import seaborn as sns\n",
    "import matplotlib.pyplot as plt"
   ]
  },
  {
   "cell_type": "code",
   "execution_count": 50,
   "metadata": {},
   "outputs": [],
   "source": [
    "#your code here\n",
    "diamonds = pd.read_csv('diamonds.csv')\n",
    "diamonds.reset_index(drop=True, inplace=True)"
   ]
  },
  {
   "cell_type": "code",
   "execution_count": 51,
   "metadata": {},
   "outputs": [
    {
     "output_type": "execute_result",
     "data": {
      "text/plain": [
       "   Unnamed: 0  carat      cut color clarity  depth  table  price     x     y  \\\n",
       "0           1   0.23    Ideal     E     SI2   61.5   55.0    326  3.95  3.98   \n",
       "1           2   0.21  Premium     E     SI1   59.8   61.0    326  3.89  3.84   \n",
       "2           3   0.23     Good     E     VS1   56.9   65.0    327  4.05  4.07   \n",
       "3           4   0.29  Premium     I     VS2   62.4   58.0    334  4.20  4.23   \n",
       "4           5   0.31     Good     J     SI2   63.3   58.0    335  4.34  4.35   \n",
       "\n",
       "      z  \n",
       "0  2.43  \n",
       "1  2.31  \n",
       "2  2.31  \n",
       "3  2.63  \n",
       "4  2.75  "
      ],
      "text/html": "<div>\n<style scoped>\n    .dataframe tbody tr th:only-of-type {\n        vertical-align: middle;\n    }\n\n    .dataframe tbody tr th {\n        vertical-align: top;\n    }\n\n    .dataframe thead th {\n        text-align: right;\n    }\n</style>\n<table border=\"1\" class=\"dataframe\">\n  <thead>\n    <tr style=\"text-align: right;\">\n      <th></th>\n      <th>Unnamed: 0</th>\n      <th>carat</th>\n      <th>cut</th>\n      <th>color</th>\n      <th>clarity</th>\n      <th>depth</th>\n      <th>table</th>\n      <th>price</th>\n      <th>x</th>\n      <th>y</th>\n      <th>z</th>\n    </tr>\n  </thead>\n  <tbody>\n    <tr>\n      <th>0</th>\n      <td>1</td>\n      <td>0.23</td>\n      <td>Ideal</td>\n      <td>E</td>\n      <td>SI2</td>\n      <td>61.5</td>\n      <td>55.0</td>\n      <td>326</td>\n      <td>3.95</td>\n      <td>3.98</td>\n      <td>2.43</td>\n    </tr>\n    <tr>\n      <th>1</th>\n      <td>2</td>\n      <td>0.21</td>\n      <td>Premium</td>\n      <td>E</td>\n      <td>SI1</td>\n      <td>59.8</td>\n      <td>61.0</td>\n      <td>326</td>\n      <td>3.89</td>\n      <td>3.84</td>\n      <td>2.31</td>\n    </tr>\n    <tr>\n      <th>2</th>\n      <td>3</td>\n      <td>0.23</td>\n      <td>Good</td>\n      <td>E</td>\n      <td>VS1</td>\n      <td>56.9</td>\n      <td>65.0</td>\n      <td>327</td>\n      <td>4.05</td>\n      <td>4.07</td>\n      <td>2.31</td>\n    </tr>\n    <tr>\n      <th>3</th>\n      <td>4</td>\n      <td>0.29</td>\n      <td>Premium</td>\n      <td>I</td>\n      <td>VS2</td>\n      <td>62.4</td>\n      <td>58.0</td>\n      <td>334</td>\n      <td>4.20</td>\n      <td>4.23</td>\n      <td>2.63</td>\n    </tr>\n    <tr>\n      <th>4</th>\n      <td>5</td>\n      <td>0.31</td>\n      <td>Good</td>\n      <td>J</td>\n      <td>SI2</td>\n      <td>63.3</td>\n      <td>58.0</td>\n      <td>335</td>\n      <td>4.34</td>\n      <td>4.35</td>\n      <td>2.75</td>\n    </tr>\n  </tbody>\n</table>\n</div>"
     },
     "metadata": {},
     "execution_count": 51
    }
   ],
   "source": [
    "#your code here\n",
    "diamonds.head()"
   ]
  },
  {
   "cell_type": "markdown",
   "metadata": {},
   "source": [
    "We can see the first 5 rows of the dataset using the `head` method. This by itself doesn't tell us much about the data that we have, but we can have a first look at the features (columns) and some of the values that each one takes.\n",
    "\n",
    "**What do you see? Make some comments about the values you see in each column, comparing them with the codebook. Is that what you would expect for these variables?**"
   ]
  },
  {
   "cell_type": "code",
   "execution_count": 52,
   "metadata": {},
   "outputs": [],
   "source": [
    "#your code here\n",
    "#diamonds['price'].min()\n",
    "#diamonds['price'].max()\n",
    "#price ok = the min and the max values are correct\n",
    "\n",
    "#diamonds['carat'].min()\n",
    "#diamonds['carat'].max()\n",
    "#carat ok = the min and the max values are correct\n",
    "\n",
    "#diamonds['cut'].unique() #ok\n",
    "\n",
    "#diamonds['color'].unique() #ok\n",
    "\n",
    "#diamonds['clarity'].unique() #ok\n",
    "\n",
    "#diamonds['x'].min() #not expect to get 0 for length\n",
    "#diamonds['y'].min() #not expect to get 0 for witdh\n",
    "#diamonds['z'].min() #not expect to get 0 for depth (not normal to have diamonds in 2D shape)\n",
    "#maybe this '0.0' represent missing data\n",
    "\n",
    "#diamonds['depth'].min() #to have depth, you have to have the x, y and z different from 0.0"
   ]
  },
  {
   "cell_type": "code",
   "execution_count": 53,
   "metadata": {},
   "outputs": [
    {
     "output_type": "execute_result",
     "data": {
      "text/plain": [
       "(53940, 11)"
      ]
     },
     "metadata": {},
     "execution_count": 53
    }
   ],
   "source": [
    "#your code here\n",
    "diamonds.shape"
   ]
  },
  {
   "source": [
    "## 1. `Clarity` Column"
   ],
   "cell_type": "markdown",
   "metadata": {}
  },
  {
   "cell_type": "markdown",
   "metadata": {},
   "source": [
    "The `clarity` column is confusing because we are not diamond experts. Let's modify this column with a new scale that is more understandable for us.\n",
    "\n",
    "**Modify `clarity` column with numbers from 0 to 7. The lowest would be 0 with value `I1` and the greatest 7 with value `IF`**"
   ]
  },
  {
   "cell_type": "code",
   "execution_count": 54,
   "metadata": {},
   "outputs": [
    {
     "output_type": "execute_result",
     "data": {
      "text/plain": [
       "   Unnamed: 0  carat      cut color  clarity  depth  table  price     x     y  \\\n",
       "0           1   0.23    Ideal     E        1   61.5   55.0    326  3.95  3.98   \n",
       "1           2   0.21  Premium     E        2   59.8   61.0    326  3.89  3.84   \n",
       "2           3   0.23     Good     E        4   56.9   65.0    327  4.05  4.07   \n",
       "3           4   0.29  Premium     I        3   62.4   58.0    334  4.20  4.23   \n",
       "4           5   0.31     Good     J        1   63.3   58.0    335  4.34  4.35   \n",
       "\n",
       "      z  \n",
       "0  2.43  \n",
       "1  2.31  \n",
       "2  2.31  \n",
       "3  2.63  \n",
       "4  2.75  "
      ],
      "text/html": "<div>\n<style scoped>\n    .dataframe tbody tr th:only-of-type {\n        vertical-align: middle;\n    }\n\n    .dataframe tbody tr th {\n        vertical-align: top;\n    }\n\n    .dataframe thead th {\n        text-align: right;\n    }\n</style>\n<table border=\"1\" class=\"dataframe\">\n  <thead>\n    <tr style=\"text-align: right;\">\n      <th></th>\n      <th>Unnamed: 0</th>\n      <th>carat</th>\n      <th>cut</th>\n      <th>color</th>\n      <th>clarity</th>\n      <th>depth</th>\n      <th>table</th>\n      <th>price</th>\n      <th>x</th>\n      <th>y</th>\n      <th>z</th>\n    </tr>\n  </thead>\n  <tbody>\n    <tr>\n      <th>0</th>\n      <td>1</td>\n      <td>0.23</td>\n      <td>Ideal</td>\n      <td>E</td>\n      <td>1</td>\n      <td>61.5</td>\n      <td>55.0</td>\n      <td>326</td>\n      <td>3.95</td>\n      <td>3.98</td>\n      <td>2.43</td>\n    </tr>\n    <tr>\n      <th>1</th>\n      <td>2</td>\n      <td>0.21</td>\n      <td>Premium</td>\n      <td>E</td>\n      <td>2</td>\n      <td>59.8</td>\n      <td>61.0</td>\n      <td>326</td>\n      <td>3.89</td>\n      <td>3.84</td>\n      <td>2.31</td>\n    </tr>\n    <tr>\n      <th>2</th>\n      <td>3</td>\n      <td>0.23</td>\n      <td>Good</td>\n      <td>E</td>\n      <td>4</td>\n      <td>56.9</td>\n      <td>65.0</td>\n      <td>327</td>\n      <td>4.05</td>\n      <td>4.07</td>\n      <td>2.31</td>\n    </tr>\n    <tr>\n      <th>3</th>\n      <td>4</td>\n      <td>0.29</td>\n      <td>Premium</td>\n      <td>I</td>\n      <td>3</td>\n      <td>62.4</td>\n      <td>58.0</td>\n      <td>334</td>\n      <td>4.20</td>\n      <td>4.23</td>\n      <td>2.63</td>\n    </tr>\n    <tr>\n      <th>4</th>\n      <td>5</td>\n      <td>0.31</td>\n      <td>Good</td>\n      <td>J</td>\n      <td>1</td>\n      <td>63.3</td>\n      <td>58.0</td>\n      <td>335</td>\n      <td>4.34</td>\n      <td>4.35</td>\n      <td>2.75</td>\n    </tr>\n  </tbody>\n</table>\n</div>"
     },
     "metadata": {},
     "execution_count": 54
    }
   ],
   "source": [
    "#your code here\n",
    "def clarity_mod(x):\n",
    "    clarity_names = ['I1','SI2', 'SI1', 'VS2', 'VS1', 'VVS2', 'VVS1', 'IF']\n",
    "    if x in clarity_names:\n",
    "        return clarity_names.index(x)\n",
    "diamonds['clarity'] = diamonds['clarity'].apply(clarity_mod)\n",
    "diamonds.head()"
   ]
  },
  {
   "source": [
    "## 2. `Color` Column"
   ],
   "cell_type": "markdown",
   "metadata": {}
  },
  {
   "cell_type": "code",
   "execution_count": 55,
   "metadata": {},
   "outputs": [
    {
     "output_type": "execute_result",
     "data": {
      "text/plain": [
       "   Unnamed: 0  carat      cut  color  clarity  depth  table  price     x  \\\n",
       "0           1   0.23    Ideal      5        1   61.5   55.0    326  3.95   \n",
       "1           2   0.21  Premium      5        2   59.8   61.0    326  3.89   \n",
       "2           3   0.23     Good      5        4   56.9   65.0    327  4.05   \n",
       "3           4   0.29  Premium      1        3   62.4   58.0    334  4.20   \n",
       "4           5   0.31     Good      0        1   63.3   58.0    335  4.34   \n",
       "\n",
       "      y     z  \n",
       "0  3.98  2.43  \n",
       "1  3.84  2.31  \n",
       "2  4.07  2.31  \n",
       "3  4.23  2.63  \n",
       "4  4.35  2.75  "
      ],
      "text/html": "<div>\n<style scoped>\n    .dataframe tbody tr th:only-of-type {\n        vertical-align: middle;\n    }\n\n    .dataframe tbody tr th {\n        vertical-align: top;\n    }\n\n    .dataframe thead th {\n        text-align: right;\n    }\n</style>\n<table border=\"1\" class=\"dataframe\">\n  <thead>\n    <tr style=\"text-align: right;\">\n      <th></th>\n      <th>Unnamed: 0</th>\n      <th>carat</th>\n      <th>cut</th>\n      <th>color</th>\n      <th>clarity</th>\n      <th>depth</th>\n      <th>table</th>\n      <th>price</th>\n      <th>x</th>\n      <th>y</th>\n      <th>z</th>\n    </tr>\n  </thead>\n  <tbody>\n    <tr>\n      <th>0</th>\n      <td>1</td>\n      <td>0.23</td>\n      <td>Ideal</td>\n      <td>5</td>\n      <td>1</td>\n      <td>61.5</td>\n      <td>55.0</td>\n      <td>326</td>\n      <td>3.95</td>\n      <td>3.98</td>\n      <td>2.43</td>\n    </tr>\n    <tr>\n      <th>1</th>\n      <td>2</td>\n      <td>0.21</td>\n      <td>Premium</td>\n      <td>5</td>\n      <td>2</td>\n      <td>59.8</td>\n      <td>61.0</td>\n      <td>326</td>\n      <td>3.89</td>\n      <td>3.84</td>\n      <td>2.31</td>\n    </tr>\n    <tr>\n      <th>2</th>\n      <td>3</td>\n      <td>0.23</td>\n      <td>Good</td>\n      <td>5</td>\n      <td>4</td>\n      <td>56.9</td>\n      <td>65.0</td>\n      <td>327</td>\n      <td>4.05</td>\n      <td>4.07</td>\n      <td>2.31</td>\n    </tr>\n    <tr>\n      <th>3</th>\n      <td>4</td>\n      <td>0.29</td>\n      <td>Premium</td>\n      <td>1</td>\n      <td>3</td>\n      <td>62.4</td>\n      <td>58.0</td>\n      <td>334</td>\n      <td>4.20</td>\n      <td>4.23</td>\n      <td>2.63</td>\n    </tr>\n    <tr>\n      <th>4</th>\n      <td>5</td>\n      <td>0.31</td>\n      <td>Good</td>\n      <td>0</td>\n      <td>1</td>\n      <td>63.3</td>\n      <td>58.0</td>\n      <td>335</td>\n      <td>4.34</td>\n      <td>4.35</td>\n      <td>2.75</td>\n    </tr>\n  </tbody>\n</table>\n</div>"
     },
     "metadata": {},
     "execution_count": 55
    }
   ],
   "source": [
    "#your code here\n",
    "color_names = sorted(list(diamonds['color'].unique()),reverse=True)\n",
    "#print(color_names)\n",
    "def color_mod(x):\n",
    "    #color_names = sorted(list(diamonds['color'].unique()),reverse=True)\n",
    "    if x in color_names:\n",
    "        return color_names.index(x)\n",
    "diamonds['color'] = diamonds['color'].apply(color_mod)\n",
    "diamonds.head()"
   ]
  },
  {
   "source": [
    "## Check the type of columns"
   ],
   "cell_type": "markdown",
   "metadata": {}
  },
  {
   "cell_type": "code",
   "execution_count": 56,
   "metadata": {},
   "outputs": [
    {
     "output_type": "stream",
     "name": "stdout",
     "text": [
      "<class 'pandas.core.frame.DataFrame'>\nRangeIndex: 53940 entries, 0 to 53939\nData columns (total 11 columns):\n #   Column      Non-Null Count  Dtype  \n---  ------      --------------  -----  \n 0   Unnamed: 0  53940 non-null  int64  \n 1   carat       53940 non-null  float64\n 2   cut         53940 non-null  object \n 3   color       53940 non-null  int64  \n 4   clarity     53940 non-null  int64  \n 5   depth       53940 non-null  float64\n 6   table       53940 non-null  float64\n 7   price       53940 non-null  int64  \n 8   x           53940 non-null  float64\n 9   y           53940 non-null  float64\n 10  z           53940 non-null  float64\ndtypes: float64(6), int64(4), object(1)\nmemory usage: 4.5+ MB\n"
     ]
    }
   ],
   "source": [
    "diamonds.info()\n"
   ]
  },
  {
   "source": [
    "### in both methods we have 11 columns and 53940 rows. The interesting fact that is no row with null information (missing data). We have only 1 column with object type.\n",
    "\n",
    "### price should be float, not int"
   ],
   "cell_type": "markdown",
   "metadata": {}
  },
  {
   "cell_type": "code",
   "execution_count": 58,
   "metadata": {},
   "outputs": [
    {
     "output_type": "execute_result",
     "data": {
      "text/plain": [
       "         Unnamed: 0         carat         color       clarity         depth  \\\n",
       "count  53940.000000  53940.000000  53940.000000  53940.000000  53940.000000   \n",
       "mean   26970.500000      0.797940      3.405803      3.051020     61.749405   \n",
       "std    15571.281097      0.474011      1.701105      1.647136      1.432621   \n",
       "min        1.000000      0.200000      0.000000      0.000000     43.000000   \n",
       "25%    13485.750000      0.400000      2.000000      2.000000     61.000000   \n",
       "50%    26970.500000      0.700000      3.000000      3.000000     61.800000   \n",
       "75%    40455.250000      1.040000      5.000000      4.000000     62.500000   \n",
       "max    53940.000000      5.010000      6.000000      7.000000     79.000000   \n",
       "\n",
       "              table         price             x             y             z  \n",
       "count  53940.000000  53940.000000  53940.000000  53940.000000  53940.000000  \n",
       "mean      57.457184   3932.799722      5.731157      5.734526      3.538734  \n",
       "std        2.234491   3989.439738      1.121761      1.142135      0.705699  \n",
       "min       43.000000    326.000000      0.000000      0.000000      0.000000  \n",
       "25%       56.000000    950.000000      4.710000      4.720000      2.910000  \n",
       "50%       57.000000   2401.000000      5.700000      5.710000      3.530000  \n",
       "75%       59.000000   5324.250000      6.540000      6.540000      4.040000  \n",
       "max       95.000000  18823.000000     10.740000     58.900000     31.800000  "
      ],
      "text/html": "<div>\n<style scoped>\n    .dataframe tbody tr th:only-of-type {\n        vertical-align: middle;\n    }\n\n    .dataframe tbody tr th {\n        vertical-align: top;\n    }\n\n    .dataframe thead th {\n        text-align: right;\n    }\n</style>\n<table border=\"1\" class=\"dataframe\">\n  <thead>\n    <tr style=\"text-align: right;\">\n      <th></th>\n      <th>Unnamed: 0</th>\n      <th>carat</th>\n      <th>color</th>\n      <th>clarity</th>\n      <th>depth</th>\n      <th>table</th>\n      <th>price</th>\n      <th>x</th>\n      <th>y</th>\n      <th>z</th>\n    </tr>\n  </thead>\n  <tbody>\n    <tr>\n      <th>count</th>\n      <td>53940.000000</td>\n      <td>53940.000000</td>\n      <td>53940.000000</td>\n      <td>53940.000000</td>\n      <td>53940.000000</td>\n      <td>53940.000000</td>\n      <td>53940.000000</td>\n      <td>53940.000000</td>\n      <td>53940.000000</td>\n      <td>53940.000000</td>\n    </tr>\n    <tr>\n      <th>mean</th>\n      <td>26970.500000</td>\n      <td>0.797940</td>\n      <td>3.405803</td>\n      <td>3.051020</td>\n      <td>61.749405</td>\n      <td>57.457184</td>\n      <td>3932.799722</td>\n      <td>5.731157</td>\n      <td>5.734526</td>\n      <td>3.538734</td>\n    </tr>\n    <tr>\n      <th>std</th>\n      <td>15571.281097</td>\n      <td>0.474011</td>\n      <td>1.701105</td>\n      <td>1.647136</td>\n      <td>1.432621</td>\n      <td>2.234491</td>\n      <td>3989.439738</td>\n      <td>1.121761</td>\n      <td>1.142135</td>\n      <td>0.705699</td>\n    </tr>\n    <tr>\n      <th>min</th>\n      <td>1.000000</td>\n      <td>0.200000</td>\n      <td>0.000000</td>\n      <td>0.000000</td>\n      <td>43.000000</td>\n      <td>43.000000</td>\n      <td>326.000000</td>\n      <td>0.000000</td>\n      <td>0.000000</td>\n      <td>0.000000</td>\n    </tr>\n    <tr>\n      <th>25%</th>\n      <td>13485.750000</td>\n      <td>0.400000</td>\n      <td>2.000000</td>\n      <td>2.000000</td>\n      <td>61.000000</td>\n      <td>56.000000</td>\n      <td>950.000000</td>\n      <td>4.710000</td>\n      <td>4.720000</td>\n      <td>2.910000</td>\n    </tr>\n    <tr>\n      <th>50%</th>\n      <td>26970.500000</td>\n      <td>0.700000</td>\n      <td>3.000000</td>\n      <td>3.000000</td>\n      <td>61.800000</td>\n      <td>57.000000</td>\n      <td>2401.000000</td>\n      <td>5.700000</td>\n      <td>5.710000</td>\n      <td>3.530000</td>\n    </tr>\n    <tr>\n      <th>75%</th>\n      <td>40455.250000</td>\n      <td>1.040000</td>\n      <td>5.000000</td>\n      <td>4.000000</td>\n      <td>62.500000</td>\n      <td>59.000000</td>\n      <td>5324.250000</td>\n      <td>6.540000</td>\n      <td>6.540000</td>\n      <td>4.040000</td>\n    </tr>\n    <tr>\n      <th>max</th>\n      <td>53940.000000</td>\n      <td>5.010000</td>\n      <td>6.000000</td>\n      <td>7.000000</td>\n      <td>79.000000</td>\n      <td>95.000000</td>\n      <td>18823.000000</td>\n      <td>10.740000</td>\n      <td>58.900000</td>\n      <td>31.800000</td>\n    </tr>\n  </tbody>\n</table>\n</div>"
     },
     "metadata": {},
     "execution_count": 58
    }
   ],
   "source": [
    "diamonds.describe()\n",
    "#This output is very convenient for quickly checking for strange values in the numerical variables; for instance, given the definitions of all of them, we would not expect to find negative values, and indeed, based on the minima (min row) all values are non-negative, which is good."
   ]
  },
  {
   "cell_type": "markdown",
   "metadata": {},
   "source": [
    "### The columns x, y and z have a minimum value of 0. This means that there are one or more rows (or observations) representing a diamond that has lenght, width or depth of 0. Considering that we're talking about a physical object, this is impossible!\n",
    "\n",
    "Now let's proceed to check the rows that have a value of 0 in any of the x, y or z columns."
   ]
  },
  {
   "cell_type": "code",
   "execution_count": 59,
   "metadata": {},
   "outputs": [
    {
     "output_type": "execute_result",
     "data": {
      "text/plain": [
       "(20, 11)"
      ]
     },
     "metadata": {},
     "execution_count": 59
    }
   ],
   "source": [
    "#your code here\n",
    "condx = diamonds['x'] == 0.0\n",
    "condy = diamonds['y'] == 0.0\n",
    "condz = diamonds['z'] == 0.0\n",
    "\n",
    "diamonds_missing_all = diamonds[(condx & condy & condz)]\n",
    "diamonds_missing_all.shape\n",
    "#we have 7 rows without information for length, width and depth\n",
    "\n",
    "diamonds_missing = diamonds[(condx | condy | condz)]\n",
    "diamonds_missing.shape\n",
    "#for one of them with 0.0 we have 20 rows"
   ]
  },
  {
   "cell_type": "markdown",
   "metadata": {},
   "source": [
    "We have 20 rows that have a value of 0 in some or all the afore mentioned columns.\n",
    "Most of them (12) are missing the z value, which we can obtain using the columns depth, x and y. \n",
    "\n",
    "20 rows with issues represent just 0.03% of our data (20 out of 53940) so it wouldn't be a big deal to remove them. \n",
    "\n",
    "For those 12 rows, we will create a function that applies the formula given in the codebook and get the value of z."
   ]
  },
  {
   "cell_type": "code",
   "execution_count": 60,
   "metadata": {},
   "outputs": [],
   "source": [
    "#your code here\n",
    "# depth% = 2 * z / (x + y)\n",
    "def calculate_z(row):\n",
    "    #data = [x,y]\n",
    "    #return depth*(statistics.mean(data)\n",
    "    if row['z'] == 0:\n",
    "        return row['depth']*(row['x']+row['y'])/200\n",
    "    else:\n",
    "        return row"
   ]
  },
  {
   "cell_type": "markdown",
   "metadata": {},
   "source": [
    "**Apply it just to the rows with incorrect values**"
   ]
  },
  {
   "cell_type": "code",
   "execution_count": 61,
   "metadata": {},
   "outputs": [
    {
     "output_type": "execute_result",
     "data": {
      "text/plain": [
       "2207     3.850365\n",
       "2314     3.852030\n",
       "4791     4.085550\n",
       "5471     3.839120\n",
       "10167    4.540800\n",
       "11182    2.038960\n",
       "11963    0.000000\n",
       "13601    4.058160\n",
       "15951    0.000000\n",
       "24394    5.031180\n",
       "24520    0.000000\n",
       "26123    5.192110\n",
       "26243    0.000000\n",
       "27112    5.137740\n",
       "27429    0.000000\n",
       "27503    5.006595\n",
       "27739    5.662250\n",
       "49556    0.000000\n",
       "49557    0.000000\n",
       "51506    4.040760\n",
       "dtype: float64"
      ]
     },
     "metadata": {},
     "execution_count": 61
    }
   ],
   "source": [
    "#your code here\n",
    "diamonds[diamonds['z'] == 0.0].apply(calculate_z,axis=1)\n",
    "#diamonds.loc[diamonds['x']==0].apply(calculate_z,axis=1)\n",
    "#diamonds[diamonds['z'] == 0.0].apply(calculate_z,axis=1)\n",
    "#diamonds['z'] = diamonds[diamonds['z'] == 0.0].apply(calculate_z,axis=1) #dessa forma devolve NaN pros valores diferentes de 0.0\n",
    "#diamonds['z'] = diamonds['z'].apply(lambda x: calculate_z if x==0.0 else x) #dessa forma não calcula calculate_z\n",
    "\n",
    "#diamonds[(condz)]\n",
    "#como substituir se apply não aceita inplace???\n",
    "#diamonds[diamonds['z'] == 0.0]"
   ]
  },
  {
   "cell_type": "markdown",
   "metadata": {},
   "source": [
    "### The other 8 values as they are, it would negatively affect our analysis, because these are data that do not make logical sense. Therefore it is better to consider those values as NaN values, since they are probably the result of a mistake or error during process of measuring and storing these values in a dataset."
   ]
  },
  {
   "cell_type": "code",
   "execution_count": 62,
   "metadata": {},
   "outputs": [],
   "source": [
    "#your code here\n",
    "diamonds['z'].replace(0.0, np.nan,inplace=True)"
   ]
  },
  {
   "cell_type": "markdown",
   "metadata": {},
   "source": [
    "Let's check the data again with the `describe()` method."
   ]
  },
  {
   "cell_type": "code",
   "execution_count": 63,
   "metadata": {},
   "outputs": [
    {
     "output_type": "execute_result",
     "data": {
      "text/plain": [
       "         Unnamed: 0         carat         color       clarity         depth  \\\n",
       "count  53940.000000  53940.000000  53940.000000  53940.000000  53940.000000   \n",
       "mean   26970.500000      0.797940      3.405803      3.051020     61.749405   \n",
       "std    15571.281097      0.474011      1.701105      1.647136      1.432621   \n",
       "min        1.000000      0.200000      0.000000      0.000000     43.000000   \n",
       "25%    13485.750000      0.400000      2.000000      2.000000     61.000000   \n",
       "50%    26970.500000      0.700000      3.000000      3.000000     61.800000   \n",
       "75%    40455.250000      1.040000      5.000000      4.000000     62.500000   \n",
       "max    53940.000000      5.010000      6.000000      7.000000     79.000000   \n",
       "\n",
       "              table         price             x             y             z  \n",
       "count  53940.000000  53940.000000  53940.000000  53940.000000  53920.000000  \n",
       "mean      57.457184   3932.799722      5.731157      5.734526      3.540046  \n",
       "std        2.234491   3989.439738      1.121761      1.142135      0.702530  \n",
       "min       43.000000    326.000000      0.000000      0.000000      1.070000  \n",
       "25%       56.000000    950.000000      4.710000      4.720000      2.910000  \n",
       "50%       57.000000   2401.000000      5.700000      5.710000      3.530000  \n",
       "75%       59.000000   5324.250000      6.540000      6.540000      4.040000  \n",
       "max       95.000000  18823.000000     10.740000     58.900000     31.800000  "
      ],
      "text/html": "<div>\n<style scoped>\n    .dataframe tbody tr th:only-of-type {\n        vertical-align: middle;\n    }\n\n    .dataframe tbody tr th {\n        vertical-align: top;\n    }\n\n    .dataframe thead th {\n        text-align: right;\n    }\n</style>\n<table border=\"1\" class=\"dataframe\">\n  <thead>\n    <tr style=\"text-align: right;\">\n      <th></th>\n      <th>Unnamed: 0</th>\n      <th>carat</th>\n      <th>color</th>\n      <th>clarity</th>\n      <th>depth</th>\n      <th>table</th>\n      <th>price</th>\n      <th>x</th>\n      <th>y</th>\n      <th>z</th>\n    </tr>\n  </thead>\n  <tbody>\n    <tr>\n      <th>count</th>\n      <td>53940.000000</td>\n      <td>53940.000000</td>\n      <td>53940.000000</td>\n      <td>53940.000000</td>\n      <td>53940.000000</td>\n      <td>53940.000000</td>\n      <td>53940.000000</td>\n      <td>53940.000000</td>\n      <td>53940.000000</td>\n      <td>53920.000000</td>\n    </tr>\n    <tr>\n      <th>mean</th>\n      <td>26970.500000</td>\n      <td>0.797940</td>\n      <td>3.405803</td>\n      <td>3.051020</td>\n      <td>61.749405</td>\n      <td>57.457184</td>\n      <td>3932.799722</td>\n      <td>5.731157</td>\n      <td>5.734526</td>\n      <td>3.540046</td>\n    </tr>\n    <tr>\n      <th>std</th>\n      <td>15571.281097</td>\n      <td>0.474011</td>\n      <td>1.701105</td>\n      <td>1.647136</td>\n      <td>1.432621</td>\n      <td>2.234491</td>\n      <td>3989.439738</td>\n      <td>1.121761</td>\n      <td>1.142135</td>\n      <td>0.702530</td>\n    </tr>\n    <tr>\n      <th>min</th>\n      <td>1.000000</td>\n      <td>0.200000</td>\n      <td>0.000000</td>\n      <td>0.000000</td>\n      <td>43.000000</td>\n      <td>43.000000</td>\n      <td>326.000000</td>\n      <td>0.000000</td>\n      <td>0.000000</td>\n      <td>1.070000</td>\n    </tr>\n    <tr>\n      <th>25%</th>\n      <td>13485.750000</td>\n      <td>0.400000</td>\n      <td>2.000000</td>\n      <td>2.000000</td>\n      <td>61.000000</td>\n      <td>56.000000</td>\n      <td>950.000000</td>\n      <td>4.710000</td>\n      <td>4.720000</td>\n      <td>2.910000</td>\n    </tr>\n    <tr>\n      <th>50%</th>\n      <td>26970.500000</td>\n      <td>0.700000</td>\n      <td>3.000000</td>\n      <td>3.000000</td>\n      <td>61.800000</td>\n      <td>57.000000</td>\n      <td>2401.000000</td>\n      <td>5.700000</td>\n      <td>5.710000</td>\n      <td>3.530000</td>\n    </tr>\n    <tr>\n      <th>75%</th>\n      <td>40455.250000</td>\n      <td>1.040000</td>\n      <td>5.000000</td>\n      <td>4.000000</td>\n      <td>62.500000</td>\n      <td>59.000000</td>\n      <td>5324.250000</td>\n      <td>6.540000</td>\n      <td>6.540000</td>\n      <td>4.040000</td>\n    </tr>\n    <tr>\n      <th>max</th>\n      <td>53940.000000</td>\n      <td>5.010000</td>\n      <td>6.000000</td>\n      <td>7.000000</td>\n      <td>79.000000</td>\n      <td>95.000000</td>\n      <td>18823.000000</td>\n      <td>10.740000</td>\n      <td>58.900000</td>\n      <td>31.800000</td>\n    </tr>\n  </tbody>\n</table>\n</div>"
     },
     "metadata": {},
     "execution_count": 63
    }
   ],
   "source": [
    "#your code here\n",
    "diamonds.describe()\n",
    "#column z not appear because of the NaN values"
   ]
  },
  {
   "cell_type": "markdown",
   "metadata": {},
   "source": [
    "Let's finish by checking for NaN values in the data. Since we introduced them ourselves using 'replace', we will surely find some, but there may be more that are unrelated to the x, y and z columns. "
   ]
  },
  {
   "cell_type": "code",
   "execution_count": 64,
   "metadata": {},
   "outputs": [
    {
     "output_type": "execute_result",
     "data": {
      "text/plain": [
       "(53920, 11)"
      ]
     },
     "metadata": {},
     "execution_count": 64
    }
   ],
   "source": [
    "#your code here\n",
    "diamonds['z'].isna().sum() #check if it works\n",
    "diamonds.dropna(inplace=True)\n",
    "diamonds.shape"
   ]
  },
  {
   "cell_type": "code",
   "execution_count": 66,
   "metadata": {},
   "outputs": [
    {
     "output_type": "execute_result",
     "data": {
      "text/plain": [
       "<bound method NDFrame.describe of        Unnamed: 0  carat        cut  color  clarity  depth  table  price  \\\n",
       "0               1   0.23      Ideal      5        1   61.5   55.0    326   \n",
       "1               2   0.21    Premium      5        2   59.8   61.0    326   \n",
       "2               3   0.23       Good      5        4   56.9   65.0    327   \n",
       "3               4   0.29    Premium      1        3   62.4   58.0    334   \n",
       "4               5   0.31       Good      0        1   63.3   58.0    335   \n",
       "...           ...    ...        ...    ...      ...    ...    ...    ...   \n",
       "53935       53936   0.72      Ideal      6        2   60.8   57.0   2757   \n",
       "53936       53937   0.72       Good      6        2   63.1   55.0   2757   \n",
       "53937       53938   0.70  Very Good      6        2   62.8   60.0   2757   \n",
       "53938       53939   0.86    Premium      2        1   61.0   58.0   2757   \n",
       "53939       53940   0.75      Ideal      6        1   62.2   55.0   2757   \n",
       "\n",
       "          x     y     z  \n",
       "0      3.95  3.98  2.43  \n",
       "1      3.89  3.84  2.31  \n",
       "2      4.05  4.07  2.31  \n",
       "3      4.20  4.23  2.63  \n",
       "4      4.34  4.35  2.75  \n",
       "...     ...   ...   ...  \n",
       "53935  5.75  5.76  3.50  \n",
       "53936  5.69  5.75  3.61  \n",
       "53937  5.66  5.68  3.56  \n",
       "53938  6.15  6.12  3.74  \n",
       "53939  5.83  5.87  3.64  \n",
       "\n",
       "[53920 rows x 11 columns]>"
      ]
     },
     "metadata": {},
     "execution_count": 66
    }
   ],
   "source": [
    "#your code here\n",
    "diamonds.describe"
   ]
  },
  {
   "cell_type": "markdown",
   "metadata": {},
   "source": [
    "To manage these outliers, we are going to filter our DataFrame, we're going to take all the values that have a price higher than the 75th percentile."
   ]
  },
  {
   "cell_type": "code",
   "execution_count": 68,
   "metadata": {},
   "outputs": [
    {
     "output_type": "execute_result",
     "data": {
      "text/plain": [
       "       Unnamed: 0  carat        cut  color  clarity  depth  table  price  \\\n",
       "12760       12761   1.21    Premium      2        1   62.7   59.0   5324   \n",
       "12761       12762   1.21  Very Good      2        1   62.6   61.0   5324   \n",
       "12762       12763   1.21  Very Good      1        2   62.1   56.0   5324   \n",
       "12763       12764   1.21      Ideal      0        4   62.3   55.0   5324   \n",
       "12764       12765   0.90  Very Good      4        4   61.2   56.0   5324   \n",
       "...           ...    ...        ...    ...      ...    ...    ...    ...   \n",
       "27745       27746   2.00  Very Good      2        2   62.8   57.0  18803   \n",
       "27746       27747   2.07      Ideal      3        1   62.5   55.0  18804   \n",
       "27747       27748   1.51      Ideal      3        7   61.7   55.0  18806   \n",
       "27748       27749   2.00  Very Good      3        2   63.5   56.0  18818   \n",
       "27749       27750   2.29    Premium      1        3   60.8   60.0  18823   \n",
       "\n",
       "          x     y     z  \n",
       "12760  6.75  6.78  4.24  \n",
       "12761  6.70  6.75  4.21  \n",
       "12762  6.76  6.92  4.25  \n",
       "12763  6.81  6.86  4.26  \n",
       "12764  6.18  6.23  3.80  \n",
       "...     ...   ...   ...  \n",
       "27745  7.95  8.00  5.01  \n",
       "27746  8.20  8.13  5.11  \n",
       "27747  7.37  7.41  4.56  \n",
       "27748  7.90  7.97  5.04  \n",
       "27749  8.50  8.47  5.16  \n",
       "\n",
       "[13480 rows x 11 columns]"
      ],
      "text/html": "<div>\n<style scoped>\n    .dataframe tbody tr th:only-of-type {\n        vertical-align: middle;\n    }\n\n    .dataframe tbody tr th {\n        vertical-align: top;\n    }\n\n    .dataframe thead th {\n        text-align: right;\n    }\n</style>\n<table border=\"1\" class=\"dataframe\">\n  <thead>\n    <tr style=\"text-align: right;\">\n      <th></th>\n      <th>Unnamed: 0</th>\n      <th>carat</th>\n      <th>cut</th>\n      <th>color</th>\n      <th>clarity</th>\n      <th>depth</th>\n      <th>table</th>\n      <th>price</th>\n      <th>x</th>\n      <th>y</th>\n      <th>z</th>\n    </tr>\n  </thead>\n  <tbody>\n    <tr>\n      <th>12760</th>\n      <td>12761</td>\n      <td>1.21</td>\n      <td>Premium</td>\n      <td>2</td>\n      <td>1</td>\n      <td>62.7</td>\n      <td>59.0</td>\n      <td>5324</td>\n      <td>6.75</td>\n      <td>6.78</td>\n      <td>4.24</td>\n    </tr>\n    <tr>\n      <th>12761</th>\n      <td>12762</td>\n      <td>1.21</td>\n      <td>Very Good</td>\n      <td>2</td>\n      <td>1</td>\n      <td>62.6</td>\n      <td>61.0</td>\n      <td>5324</td>\n      <td>6.70</td>\n      <td>6.75</td>\n      <td>4.21</td>\n    </tr>\n    <tr>\n      <th>12762</th>\n      <td>12763</td>\n      <td>1.21</td>\n      <td>Very Good</td>\n      <td>1</td>\n      <td>2</td>\n      <td>62.1</td>\n      <td>56.0</td>\n      <td>5324</td>\n      <td>6.76</td>\n      <td>6.92</td>\n      <td>4.25</td>\n    </tr>\n    <tr>\n      <th>12763</th>\n      <td>12764</td>\n      <td>1.21</td>\n      <td>Ideal</td>\n      <td>0</td>\n      <td>4</td>\n      <td>62.3</td>\n      <td>55.0</td>\n      <td>5324</td>\n      <td>6.81</td>\n      <td>6.86</td>\n      <td>4.26</td>\n    </tr>\n    <tr>\n      <th>12764</th>\n      <td>12765</td>\n      <td>0.90</td>\n      <td>Very Good</td>\n      <td>4</td>\n      <td>4</td>\n      <td>61.2</td>\n      <td>56.0</td>\n      <td>5324</td>\n      <td>6.18</td>\n      <td>6.23</td>\n      <td>3.80</td>\n    </tr>\n    <tr>\n      <th>...</th>\n      <td>...</td>\n      <td>...</td>\n      <td>...</td>\n      <td>...</td>\n      <td>...</td>\n      <td>...</td>\n      <td>...</td>\n      <td>...</td>\n      <td>...</td>\n      <td>...</td>\n      <td>...</td>\n    </tr>\n    <tr>\n      <th>27745</th>\n      <td>27746</td>\n      <td>2.00</td>\n      <td>Very Good</td>\n      <td>2</td>\n      <td>2</td>\n      <td>62.8</td>\n      <td>57.0</td>\n      <td>18803</td>\n      <td>7.95</td>\n      <td>8.00</td>\n      <td>5.01</td>\n    </tr>\n    <tr>\n      <th>27746</th>\n      <td>27747</td>\n      <td>2.07</td>\n      <td>Ideal</td>\n      <td>3</td>\n      <td>1</td>\n      <td>62.5</td>\n      <td>55.0</td>\n      <td>18804</td>\n      <td>8.20</td>\n      <td>8.13</td>\n      <td>5.11</td>\n    </tr>\n    <tr>\n      <th>27747</th>\n      <td>27748</td>\n      <td>1.51</td>\n      <td>Ideal</td>\n      <td>3</td>\n      <td>7</td>\n      <td>61.7</td>\n      <td>55.0</td>\n      <td>18806</td>\n      <td>7.37</td>\n      <td>7.41</td>\n      <td>4.56</td>\n    </tr>\n    <tr>\n      <th>27748</th>\n      <td>27749</td>\n      <td>2.00</td>\n      <td>Very Good</td>\n      <td>3</td>\n      <td>2</td>\n      <td>63.5</td>\n      <td>56.0</td>\n      <td>18818</td>\n      <td>7.90</td>\n      <td>7.97</td>\n      <td>5.04</td>\n    </tr>\n    <tr>\n      <th>27749</th>\n      <td>27750</td>\n      <td>2.29</td>\n      <td>Premium</td>\n      <td>1</td>\n      <td>3</td>\n      <td>60.8</td>\n      <td>60.0</td>\n      <td>18823</td>\n      <td>8.50</td>\n      <td>8.47</td>\n      <td>5.16</td>\n    </tr>\n  </tbody>\n</table>\n<p>13480 rows × 11 columns</p>\n</div>"
     },
     "metadata": {},
     "execution_count": 68
    }
   ],
   "source": [
    "#your code here\n",
    "q3 = np.quantile(diamonds['price'], 0.75)\n",
    "diamonds[diamonds['price']>q3]"
   ]
  },
  {
   "cell_type": "markdown",
   "metadata": {},
   "source": [
    "Our dataset is really big and the outliers are really far apart from the rest of the values."
   ]
  },
  {
   "cell_type": "code",
   "execution_count": 69,
   "metadata": {},
   "outputs": [
    {
     "output_type": "display_data",
     "data": {
      "text/plain": "<Figure size 720x360 with 2 Axes>",
      "image/svg+xml": "<?xml version=\"1.0\" encoding=\"utf-8\" standalone=\"no\"?>\r\n<!DOCTYPE svg PUBLIC \"-//W3C//DTD SVG 1.1//EN\"\r\n  \"http://www.w3.org/Graphics/SVG/1.1/DTD/svg11.dtd\">\r\n<!-- Created with matplotlib (https://matplotlib.org/) -->\r\n<svg height=\"289.7pt\" version=\"1.1\" viewBox=\"0 0 605.803125 289.7\" width=\"605.803125pt\" xmlns=\"http://www.w3.org/2000/svg\" xmlns:xlink=\"http://www.w3.org/1999/xlink\">\r\n <defs>\r\n  <style type=\"text/css\">\r\n*{stroke-linecap:butt;stroke-linejoin:round;}\r\n  </style>\r\n </defs>\r\n <g id=\"figure_1\">\r\n  <g id=\"patch_1\">\r\n   <path d=\"M 0 289.7 \r\nL 605.803125 289.7 \r\nL 605.803125 0 \r\nL 0 0 \r\nz\r\n\" style=\"fill:none;\"/>\r\n  </g>\r\n  <g id=\"axes_1\">\r\n   <g id=\"patch_2\">\r\n    <path d=\"M 40.603125 279 \r\nL 263.803125 279 \r\nL 263.803125 7.2 \r\nL 40.603125 7.2 \r\nz\r\n\" style=\"fill:#ffffff;\"/>\r\n   </g>\r\n   <g id=\"patch_3\">\r\n    <path clip-path=\"url(#p15401f75c1)\" d=\"M 62.923125 261.991805 \r\nL 241.483125 261.991805 \r\nL 241.483125 253.847917 \r\nL 62.923125 253.847917 \r\nL 62.923125 261.991805 \r\nz\r\n\" style=\"fill:#3274a1;stroke:#3f3f3f;stroke-linejoin:miter;stroke-width:1.5;\"/>\r\n   </g>\r\n   <g id=\"matplotlib.axis_1\">\r\n    <g id=\"xtick_1\">\r\n     <g id=\"line2d_1\">\r\n      <defs>\r\n       <path d=\"M 0 0 \r\nL 0 3.5 \r\n\" id=\"m9689050f74\" style=\"stroke:#000000;stroke-width:0.8;\"/>\r\n      </defs>\r\n      <g>\r\n       <use style=\"stroke:#000000;stroke-width:0.8;\" x=\"152.203125\" xlink:href=\"#m9689050f74\" y=\"279\"/>\r\n      </g>\r\n     </g>\r\n    </g>\r\n   </g>\r\n   <g id=\"matplotlib.axis_2\">\r\n    <g id=\"ytick_1\">\r\n     <g id=\"line2d_2\">\r\n      <defs>\r\n       <path d=\"M 0 0 \r\nL -3.5 0 \r\n\" id=\"me9ca6e6f3f\" style=\"stroke:#000000;stroke-width:0.8;\"/>\r\n      </defs>\r\n      <g>\r\n       <use style=\"stroke:#000000;stroke-width:0.8;\" x=\"40.603125\" xlink:href=\"#me9ca6e6f3f\" y=\"238.365582\"/>\r\n      </g>\r\n     </g>\r\n     <g id=\"text_1\">\r\n      <!-- 10 -->\r\n      <defs>\r\n       <path d=\"M 12.40625 8.296875 \r\nL 28.515625 8.296875 \r\nL 28.515625 63.921875 \r\nL 10.984375 60.40625 \r\nL 10.984375 69.390625 \r\nL 28.421875 72.90625 \r\nL 38.28125 72.90625 \r\nL 38.28125 8.296875 \r\nL 54.390625 8.296875 \r\nL 54.390625 0 \r\nL 12.40625 0 \r\nz\r\n\" id=\"DejaVuSans-49\"/>\r\n       <path d=\"M 31.78125 66.40625 \r\nQ 24.171875 66.40625 20.328125 58.90625 \r\nQ 16.5 51.421875 16.5 36.375 \r\nQ 16.5 21.390625 20.328125 13.890625 \r\nQ 24.171875 6.390625 31.78125 6.390625 \r\nQ 39.453125 6.390625 43.28125 13.890625 \r\nQ 47.125 21.390625 47.125 36.375 \r\nQ 47.125 51.421875 43.28125 58.90625 \r\nQ 39.453125 66.40625 31.78125 66.40625 \r\nz\r\nM 31.78125 74.21875 \r\nQ 44.046875 74.21875 50.515625 64.515625 \r\nQ 56.984375 54.828125 56.984375 36.375 \r\nQ 56.984375 17.96875 50.515625 8.265625 \r\nQ 44.046875 -1.421875 31.78125 -1.421875 \r\nQ 19.53125 -1.421875 13.0625 8.265625 \r\nQ 6.59375 17.96875 6.59375 36.375 \r\nQ 6.59375 54.828125 13.0625 64.515625 \r\nQ 19.53125 74.21875 31.78125 74.21875 \r\nz\r\n\" id=\"DejaVuSans-48\"/>\r\n      </defs>\r\n      <g transform=\"translate(20.878125 242.164801)scale(0.1 -0.1)\">\r\n       <use xlink:href=\"#DejaVuSans-49\"/>\r\n       <use x=\"63.623047\" xlink:href=\"#DejaVuSans-48\"/>\r\n      </g>\r\n     </g>\r\n    </g>\r\n    <g id=\"ytick_2\">\r\n     <g id=\"line2d_3\">\r\n      <g>\r\n       <use style=\"stroke:#000000;stroke-width:0.8;\" x=\"40.603125\" xlink:href=\"#me9ca6e6f3f\" y=\"193.618949\"/>\r\n      </g>\r\n     </g>\r\n     <g id=\"text_2\">\r\n      <!-- 20 -->\r\n      <defs>\r\n       <path d=\"M 19.1875 8.296875 \r\nL 53.609375 8.296875 \r\nL 53.609375 0 \r\nL 7.328125 0 \r\nL 7.328125 8.296875 \r\nQ 12.9375 14.109375 22.625 23.890625 \r\nQ 32.328125 33.6875 34.8125 36.53125 \r\nQ 39.546875 41.84375 41.421875 45.53125 \r\nQ 43.3125 49.21875 43.3125 52.78125 \r\nQ 43.3125 58.59375 39.234375 62.25 \r\nQ 35.15625 65.921875 28.609375 65.921875 \r\nQ 23.96875 65.921875 18.8125 64.3125 \r\nQ 13.671875 62.703125 7.8125 59.421875 \r\nL 7.8125 69.390625 \r\nQ 13.765625 71.78125 18.9375 73 \r\nQ 24.125 74.21875 28.421875 74.21875 \r\nQ 39.75 74.21875 46.484375 68.546875 \r\nQ 53.21875 62.890625 53.21875 53.421875 \r\nQ 53.21875 48.921875 51.53125 44.890625 \r\nQ 49.859375 40.875 45.40625 35.40625 \r\nQ 44.1875 33.984375 37.640625 27.21875 \r\nQ 31.109375 20.453125 19.1875 8.296875 \r\nz\r\n\" id=\"DejaVuSans-50\"/>\r\n      </defs>\r\n      <g transform=\"translate(20.878125 197.418168)scale(0.1 -0.1)\">\r\n       <use xlink:href=\"#DejaVuSans-50\"/>\r\n       <use x=\"63.623047\" xlink:href=\"#DejaVuSans-48\"/>\r\n      </g>\r\n     </g>\r\n    </g>\r\n    <g id=\"ytick_3\">\r\n     <g id=\"line2d_4\">\r\n      <g>\r\n       <use style=\"stroke:#000000;stroke-width:0.8;\" x=\"40.603125\" xlink:href=\"#me9ca6e6f3f\" y=\"148.872316\"/>\r\n      </g>\r\n     </g>\r\n     <g id=\"text_3\">\r\n      <!-- 30 -->\r\n      <defs>\r\n       <path d=\"M 40.578125 39.3125 \r\nQ 47.65625 37.796875 51.625 33 \r\nQ 55.609375 28.21875 55.609375 21.1875 \r\nQ 55.609375 10.40625 48.1875 4.484375 \r\nQ 40.765625 -1.421875 27.09375 -1.421875 \r\nQ 22.515625 -1.421875 17.65625 -0.515625 \r\nQ 12.796875 0.390625 7.625 2.203125 \r\nL 7.625 11.71875 \r\nQ 11.71875 9.328125 16.59375 8.109375 \r\nQ 21.484375 6.890625 26.8125 6.890625 \r\nQ 36.078125 6.890625 40.9375 10.546875 \r\nQ 45.796875 14.203125 45.796875 21.1875 \r\nQ 45.796875 27.640625 41.28125 31.265625 \r\nQ 36.765625 34.90625 28.71875 34.90625 \r\nL 20.21875 34.90625 \r\nL 20.21875 43.015625 \r\nL 29.109375 43.015625 \r\nQ 36.375 43.015625 40.234375 45.921875 \r\nQ 44.09375 48.828125 44.09375 54.296875 \r\nQ 44.09375 59.90625 40.109375 62.90625 \r\nQ 36.140625 65.921875 28.71875 65.921875 \r\nQ 24.65625 65.921875 20.015625 65.03125 \r\nQ 15.375 64.15625 9.8125 62.3125 \r\nL 9.8125 71.09375 \r\nQ 15.4375 72.65625 20.34375 73.4375 \r\nQ 25.25 74.21875 29.59375 74.21875 \r\nQ 40.828125 74.21875 47.359375 69.109375 \r\nQ 53.90625 64.015625 53.90625 55.328125 \r\nQ 53.90625 49.265625 50.4375 45.09375 \r\nQ 46.96875 40.921875 40.578125 39.3125 \r\nz\r\n\" id=\"DejaVuSans-51\"/>\r\n      </defs>\r\n      <g transform=\"translate(20.878125 152.671534)scale(0.1 -0.1)\">\r\n       <use xlink:href=\"#DejaVuSans-51\"/>\r\n       <use x=\"63.623047\" xlink:href=\"#DejaVuSans-48\"/>\r\n      </g>\r\n     </g>\r\n    </g>\r\n    <g id=\"ytick_4\">\r\n     <g id=\"line2d_5\">\r\n      <g>\r\n       <use style=\"stroke:#000000;stroke-width:0.8;\" x=\"40.603125\" xlink:href=\"#me9ca6e6f3f\" y=\"104.125682\"/>\r\n      </g>\r\n     </g>\r\n     <g id=\"text_4\">\r\n      <!-- 40 -->\r\n      <defs>\r\n       <path d=\"M 37.796875 64.3125 \r\nL 12.890625 25.390625 \r\nL 37.796875 25.390625 \r\nz\r\nM 35.203125 72.90625 \r\nL 47.609375 72.90625 \r\nL 47.609375 25.390625 \r\nL 58.015625 25.390625 \r\nL 58.015625 17.1875 \r\nL 47.609375 17.1875 \r\nL 47.609375 0 \r\nL 37.796875 0 \r\nL 37.796875 17.1875 \r\nL 4.890625 17.1875 \r\nL 4.890625 26.703125 \r\nz\r\n\" id=\"DejaVuSans-52\"/>\r\n      </defs>\r\n      <g transform=\"translate(20.878125 107.924901)scale(0.1 -0.1)\">\r\n       <use xlink:href=\"#DejaVuSans-52\"/>\r\n       <use x=\"63.623047\" xlink:href=\"#DejaVuSans-48\"/>\r\n      </g>\r\n     </g>\r\n    </g>\r\n    <g id=\"ytick_5\">\r\n     <g id=\"line2d_6\">\r\n      <g>\r\n       <use style=\"stroke:#000000;stroke-width:0.8;\" x=\"40.603125\" xlink:href=\"#me9ca6e6f3f\" y=\"59.379049\"/>\r\n      </g>\r\n     </g>\r\n     <g id=\"text_5\">\r\n      <!-- 50 -->\r\n      <defs>\r\n       <path d=\"M 10.796875 72.90625 \r\nL 49.515625 72.90625 \r\nL 49.515625 64.59375 \r\nL 19.828125 64.59375 \r\nL 19.828125 46.734375 \r\nQ 21.96875 47.46875 24.109375 47.828125 \r\nQ 26.265625 48.1875 28.421875 48.1875 \r\nQ 40.625 48.1875 47.75 41.5 \r\nQ 54.890625 34.8125 54.890625 23.390625 \r\nQ 54.890625 11.625 47.5625 5.09375 \r\nQ 40.234375 -1.421875 26.90625 -1.421875 \r\nQ 22.3125 -1.421875 17.546875 -0.640625 \r\nQ 12.796875 0.140625 7.71875 1.703125 \r\nL 7.71875 11.625 \r\nQ 12.109375 9.234375 16.796875 8.0625 \r\nQ 21.484375 6.890625 26.703125 6.890625 \r\nQ 35.15625 6.890625 40.078125 11.328125 \r\nQ 45.015625 15.765625 45.015625 23.390625 \r\nQ 45.015625 31 40.078125 35.4375 \r\nQ 35.15625 39.890625 26.703125 39.890625 \r\nQ 22.75 39.890625 18.8125 39.015625 \r\nQ 14.890625 38.140625 10.796875 36.28125 \r\nz\r\n\" id=\"DejaVuSans-53\"/>\r\n      </defs>\r\n      <g transform=\"translate(20.878125 63.178268)scale(0.1 -0.1)\">\r\n       <use xlink:href=\"#DejaVuSans-53\"/>\r\n       <use x=\"63.623047\" xlink:href=\"#DejaVuSans-48\"/>\r\n      </g>\r\n     </g>\r\n    </g>\r\n    <g id=\"ytick_6\">\r\n     <g id=\"line2d_7\">\r\n      <g>\r\n       <use style=\"stroke:#000000;stroke-width:0.8;\" x=\"40.603125\" xlink:href=\"#me9ca6e6f3f\" y=\"14.632416\"/>\r\n      </g>\r\n     </g>\r\n     <g id=\"text_6\">\r\n      <!-- 60 -->\r\n      <defs>\r\n       <path d=\"M 33.015625 40.375 \r\nQ 26.375 40.375 22.484375 35.828125 \r\nQ 18.609375 31.296875 18.609375 23.390625 \r\nQ 18.609375 15.53125 22.484375 10.953125 \r\nQ 26.375 6.390625 33.015625 6.390625 \r\nQ 39.65625 6.390625 43.53125 10.953125 \r\nQ 47.40625 15.53125 47.40625 23.390625 \r\nQ 47.40625 31.296875 43.53125 35.828125 \r\nQ 39.65625 40.375 33.015625 40.375 \r\nz\r\nM 52.59375 71.296875 \r\nL 52.59375 62.3125 \r\nQ 48.875 64.0625 45.09375 64.984375 \r\nQ 41.3125 65.921875 37.59375 65.921875 \r\nQ 27.828125 65.921875 22.671875 59.328125 \r\nQ 17.53125 52.734375 16.796875 39.40625 \r\nQ 19.671875 43.65625 24.015625 45.921875 \r\nQ 28.375 48.1875 33.59375 48.1875 \r\nQ 44.578125 48.1875 50.953125 41.515625 \r\nQ 57.328125 34.859375 57.328125 23.390625 \r\nQ 57.328125 12.15625 50.6875 5.359375 \r\nQ 44.046875 -1.421875 33.015625 -1.421875 \r\nQ 20.359375 -1.421875 13.671875 8.265625 \r\nQ 6.984375 17.96875 6.984375 36.375 \r\nQ 6.984375 53.65625 15.1875 63.9375 \r\nQ 23.390625 74.21875 37.203125 74.21875 \r\nQ 40.921875 74.21875 44.703125 73.484375 \r\nQ 48.484375 72.75 52.59375 71.296875 \r\nz\r\n\" id=\"DejaVuSans-54\"/>\r\n      </defs>\r\n      <g transform=\"translate(20.878125 18.431635)scale(0.1 -0.1)\">\r\n       <use xlink:href=\"#DejaVuSans-54\"/>\r\n       <use x=\"63.623047\" xlink:href=\"#DejaVuSans-48\"/>\r\n      </g>\r\n     </g>\r\n    </g>\r\n    <g id=\"text_7\">\r\n     <!-- y -->\r\n     <defs>\r\n      <path d=\"M 32.171875 -5.078125 \r\nQ 28.375 -14.84375 24.75 -17.8125 \r\nQ 21.140625 -20.796875 15.09375 -20.796875 \r\nL 7.90625 -20.796875 \r\nL 7.90625 -13.28125 \r\nL 13.1875 -13.28125 \r\nQ 16.890625 -13.28125 18.9375 -11.515625 \r\nQ 21 -9.765625 23.484375 -3.21875 \r\nL 25.09375 0.875 \r\nL 2.984375 54.6875 \r\nL 12.5 54.6875 \r\nL 29.59375 11.921875 \r\nL 46.6875 54.6875 \r\nL 56.203125 54.6875 \r\nz\r\n\" id=\"DejaVuSans-121\"/>\r\n     </defs>\r\n     <g transform=\"translate(14.798437 146.059375)rotate(-90)scale(0.1 -0.1)\">\r\n      <use xlink:href=\"#DejaVuSans-121\"/>\r\n     </g>\r\n    </g>\r\n   </g>\r\n   <g id=\"line2d_8\">\r\n    <path clip-path=\"url(#p15401f75c1)\" d=\"M 152.203125 261.991805 \r\nL 152.203125 266.645455 \r\n\" style=\"fill:none;stroke:#3f3f3f;stroke-linecap:square;stroke-width:1.5;\"/>\r\n   </g>\r\n   <g id=\"line2d_9\">\r\n    <path clip-path=\"url(#p15401f75c1)\" d=\"M 152.203125 253.847917 \r\nL 152.203125 241.676833 \r\n\" style=\"fill:none;stroke:#3f3f3f;stroke-linecap:square;stroke-width:1.5;\"/>\r\n   </g>\r\n   <g id=\"line2d_10\">\r\n    <path clip-path=\"url(#p15401f75c1)\" d=\"M 107.563125 266.645455 \r\nL 196.843125 266.645455 \r\n\" style=\"fill:none;stroke:#3f3f3f;stroke-linecap:square;stroke-width:1.5;\"/>\r\n   </g>\r\n   <g id=\"line2d_11\">\r\n    <path clip-path=\"url(#p15401f75c1)\" d=\"M 107.563125 241.676833 \r\nL 196.843125 241.676833 \r\n\" style=\"fill:none;stroke:#3f3f3f;stroke-linecap:square;stroke-width:1.5;\"/>\r\n   </g>\r\n   <g id=\"line2d_12\">\r\n    <defs>\r\n     <path d=\"M 0 3.535534 \r\nL 2.12132 0 \r\nL 0 -3.535534 \r\nL -2.12132 0 \r\nz\r\n\" id=\"me9fef5a2f5\" style=\"stroke:#3f3f3f;stroke-linejoin:miter;\"/>\r\n    </defs>\r\n    <g clip-path=\"url(#p15401f75c1)\">\r\n     <use style=\"fill:#3f3f3f;stroke:#3f3f3f;stroke-linejoin:miter;\" x=\"152.203125\" xlink:href=\"#me9fef5a2f5\" y=\"241.139874\"/>\r\n     <use style=\"fill:#3f3f3f;stroke:#3f3f3f;stroke-linejoin:miter;\" x=\"152.203125\" xlink:href=\"#me9fef5a2f5\" y=\"241.4531\"/>\r\n     <use style=\"fill:#3f3f3f;stroke:#3f3f3f;stroke-linejoin:miter;\" x=\"152.203125\" xlink:href=\"#me9fef5a2f5\" y=\"240.692407\"/>\r\n     <use style=\"fill:#3f3f3f;stroke:#3f3f3f;stroke-linejoin:miter;\" x=\"152.203125\" xlink:href=\"#me9fef5a2f5\" y=\"19.554545\"/>\r\n     <use style=\"fill:#3f3f3f;stroke:#3f3f3f;stroke-linejoin:miter;\" x=\"152.203125\" xlink:href=\"#me9fef5a2f5\" y=\"241.05038\"/>\r\n     <use style=\"fill:#3f3f3f;stroke:#3f3f3f;stroke-linejoin:miter;\" x=\"152.203125\" xlink:href=\"#me9fef5a2f5\" y=\"240.960887\"/>\r\n     <use style=\"fill:#3f3f3f;stroke:#3f3f3f;stroke-linejoin:miter;\" x=\"152.203125\" xlink:href=\"#me9fef5a2f5\" y=\"240.200194\"/>\r\n     <use style=\"fill:#3f3f3f;stroke:#3f3f3f;stroke-linejoin:miter;\" x=\"152.203125\" xlink:href=\"#me9fef5a2f5\" y=\"241.18462\"/>\r\n     <use style=\"fill:#3f3f3f;stroke:#3f3f3f;stroke-linejoin:miter;\" x=\"152.203125\" xlink:href=\"#me9fef5a2f5\" y=\"237.918116\"/>\r\n     <use style=\"fill:#3f3f3f;stroke:#3f3f3f;stroke-linejoin:miter;\" x=\"152.203125\" xlink:href=\"#me9fef5a2f5\" y=\"238.634062\"/>\r\n     <use style=\"fill:#3f3f3f;stroke:#3f3f3f;stroke-linejoin:miter;\" x=\"152.203125\" xlink:href=\"#me9fef5a2f5\" y=\"241.31886\"/>\r\n     <use style=\"fill:#3f3f3f;stroke:#3f3f3f;stroke-linejoin:miter;\" x=\"152.203125\" xlink:href=\"#me9fef5a2f5\" y=\"238.634062\"/>\r\n     <use style=\"fill:#3f3f3f;stroke:#3f3f3f;stroke-linejoin:miter;\" x=\"152.203125\" xlink:href=\"#me9fef5a2f5\" y=\"239.215768\"/>\r\n     <use style=\"fill:#3f3f3f;stroke:#3f3f3f;stroke-linejoin:miter;\" x=\"152.203125\" xlink:href=\"#me9fef5a2f5\" y=\"239.036782\"/>\r\n     <use style=\"fill:#3f3f3f;stroke:#3f3f3f;stroke-linejoin:miter;\" x=\"152.203125\" xlink:href=\"#me9fef5a2f5\" y=\"235.949264\"/>\r\n     <use style=\"fill:#3f3f3f;stroke:#3f3f3f;stroke-linejoin:miter;\" x=\"152.203125\" xlink:href=\"#me9fef5a2f5\" y=\"241.4531\"/>\r\n     <use style=\"fill:#3f3f3f;stroke:#3f3f3f;stroke-linejoin:miter;\" x=\"152.203125\" xlink:href=\"#me9fef5a2f5\" y=\"237.649636\"/>\r\n     <use style=\"fill:#3f3f3f;stroke:#3f3f3f;stroke-linejoin:miter;\" x=\"152.203125\" xlink:href=\"#me9fef5a2f5\" y=\"240.7819\"/>\r\n     <use style=\"fill:#3f3f3f;stroke:#3f3f3f;stroke-linejoin:miter;\" x=\"152.203125\" xlink:href=\"#me9fef5a2f5\" y=\"241.139874\"/>\r\n     <use style=\"fill:#3f3f3f;stroke:#3f3f3f;stroke-linejoin:miter;\" x=\"152.203125\" xlink:href=\"#me9fef5a2f5\" y=\"240.021208\"/>\r\n     <use style=\"fill:#3f3f3f;stroke:#3f3f3f;stroke-linejoin:miter;\" x=\"152.203125\" xlink:href=\"#me9fef5a2f5\" y=\"241.408353\"/>\r\n     <use style=\"fill:#3f3f3f;stroke:#3f3f3f;stroke-linejoin:miter;\" x=\"152.203125\" xlink:href=\"#me9fef5a2f5\" y=\"140.817922\"/>\r\n    </g>\r\n   </g>\r\n   <g id=\"line2d_13\">\r\n    <path clip-path=\"url(#p15401f75c1)\" d=\"M 62.923125 257.561888 \r\nL 241.483125 257.561888 \r\n\" style=\"fill:none;stroke:#3f3f3f;stroke-linecap:square;stroke-width:1.5;\"/>\r\n   </g>\r\n   <g id=\"patch_4\">\r\n    <path d=\"M 40.603125 279 \r\nL 40.603125 7.2 \r\n\" style=\"fill:none;stroke:#000000;stroke-linecap:square;stroke-linejoin:miter;stroke-width:0.8;\"/>\r\n   </g>\r\n   <g id=\"patch_5\">\r\n    <path d=\"M 263.803125 279 \r\nL 263.803125 7.2 \r\n\" style=\"fill:none;stroke:#000000;stroke-linecap:square;stroke-linejoin:miter;stroke-width:0.8;\"/>\r\n   </g>\r\n   <g id=\"patch_6\">\r\n    <path d=\"M 40.603125 279 \r\nL 263.803125 279 \r\n\" style=\"fill:none;stroke:#000000;stroke-linecap:square;stroke-linejoin:miter;stroke-width:0.8;\"/>\r\n   </g>\r\n   <g id=\"patch_7\">\r\n    <path d=\"M 40.603125 7.2 \r\nL 263.803125 7.2 \r\n\" style=\"fill:none;stroke:#000000;stroke-linecap:square;stroke-linejoin:miter;stroke-width:0.8;\"/>\r\n   </g>\r\n  </g>\r\n  <g id=\"axes_2\">\r\n   <g id=\"patch_8\">\r\n    <path d=\"M 375.403125 279 \r\nL 598.603125 279 \r\nL 598.603125 7.2 \r\nL 375.403125 7.2 \r\nz\r\n\" style=\"fill:#ffffff;\"/>\r\n   </g>\r\n   <g id=\"patch_9\">\r\n    <path clip-path=\"url(#p201dcbd99c)\" d=\"M 397.723125 251.850555 \r\nL 576.283125 251.850555 \r\nL 576.283125 242.764556 \r\nL 397.723125 242.764556 \r\nL 397.723125 251.850555 \r\nz\r\n\" style=\"fill:#3274a1;stroke:#3f3f3f;stroke-linejoin:miter;stroke-width:1.5;\"/>\r\n   </g>\r\n   <g id=\"matplotlib.axis_3\">\r\n    <g id=\"xtick_2\">\r\n     <g id=\"line2d_14\">\r\n      <g>\r\n       <use style=\"stroke:#000000;stroke-width:0.8;\" x=\"487.003125\" xlink:href=\"#m9689050f74\" y=\"279\"/>\r\n      </g>\r\n     </g>\r\n    </g>\r\n   </g>\r\n   <g id=\"matplotlib.axis_4\">\r\n    <g id=\"ytick_7\">\r\n     <g id=\"line2d_15\">\r\n      <g>\r\n       <use style=\"stroke:#000000;stroke-width:0.8;\" x=\"375.403125\" xlink:href=\"#me9ca6e6f3f\" y=\"275.24901\"/>\r\n      </g>\r\n     </g>\r\n     <g id=\"text_8\">\r\n      <!-- 0 -->\r\n      <g transform=\"translate(362.040625 279.048229)scale(0.1 -0.1)\">\r\n       <use xlink:href=\"#DejaVuSans-48\"/>\r\n      </g>\r\n     </g>\r\n    </g>\r\n    <g id=\"ytick_8\">\r\n     <g id=\"line2d_16\">\r\n      <g>\r\n       <use style=\"stroke:#000000;stroke-width:0.8;\" x=\"375.403125\" xlink:href=\"#me9ca6e6f3f\" y=\"235.045478\"/>\r\n      </g>\r\n     </g>\r\n     <g id=\"text_9\">\r\n      <!-- 5 -->\r\n      <g transform=\"translate(362.040625 238.844697)scale(0.1 -0.1)\">\r\n       <use xlink:href=\"#DejaVuSans-53\"/>\r\n      </g>\r\n     </g>\r\n    </g>\r\n    <g id=\"ytick_9\">\r\n     <g id=\"line2d_17\">\r\n      <g>\r\n       <use style=\"stroke:#000000;stroke-width:0.8;\" x=\"375.403125\" xlink:href=\"#me9ca6e6f3f\" y=\"194.841946\"/>\r\n      </g>\r\n     </g>\r\n     <g id=\"text_10\">\r\n      <!-- 10 -->\r\n      <g transform=\"translate(355.678125 198.641165)scale(0.1 -0.1)\">\r\n       <use xlink:href=\"#DejaVuSans-49\"/>\r\n       <use x=\"63.623047\" xlink:href=\"#DejaVuSans-48\"/>\r\n      </g>\r\n     </g>\r\n    </g>\r\n    <g id=\"ytick_10\">\r\n     <g id=\"line2d_18\">\r\n      <g>\r\n       <use style=\"stroke:#000000;stroke-width:0.8;\" x=\"375.403125\" xlink:href=\"#me9ca6e6f3f\" y=\"154.638414\"/>\r\n      </g>\r\n     </g>\r\n     <g id=\"text_11\">\r\n      <!-- 15 -->\r\n      <g transform=\"translate(355.678125 158.437633)scale(0.1 -0.1)\">\r\n       <use xlink:href=\"#DejaVuSans-49\"/>\r\n       <use x=\"63.623047\" xlink:href=\"#DejaVuSans-53\"/>\r\n      </g>\r\n     </g>\r\n    </g>\r\n    <g id=\"ytick_11\">\r\n     <g id=\"line2d_19\">\r\n      <g>\r\n       <use style=\"stroke:#000000;stroke-width:0.8;\" x=\"375.403125\" xlink:href=\"#me9ca6e6f3f\" y=\"114.434882\"/>\r\n      </g>\r\n     </g>\r\n     <g id=\"text_12\">\r\n      <!-- 20 -->\r\n      <g transform=\"translate(355.678125 118.2341)scale(0.1 -0.1)\">\r\n       <use xlink:href=\"#DejaVuSans-50\"/>\r\n       <use x=\"63.623047\" xlink:href=\"#DejaVuSans-48\"/>\r\n      </g>\r\n     </g>\r\n    </g>\r\n    <g id=\"ytick_12\">\r\n     <g id=\"line2d_20\">\r\n      <g>\r\n       <use style=\"stroke:#000000;stroke-width:0.8;\" x=\"375.403125\" xlink:href=\"#me9ca6e6f3f\" y=\"74.231349\"/>\r\n      </g>\r\n     </g>\r\n     <g id=\"text_13\">\r\n      <!-- 25 -->\r\n      <g transform=\"translate(355.678125 78.030568)scale(0.1 -0.1)\">\r\n       <use xlink:href=\"#DejaVuSans-50\"/>\r\n       <use x=\"63.623047\" xlink:href=\"#DejaVuSans-53\"/>\r\n      </g>\r\n     </g>\r\n    </g>\r\n    <g id=\"ytick_13\">\r\n     <g id=\"line2d_21\">\r\n      <g>\r\n       <use style=\"stroke:#000000;stroke-width:0.8;\" x=\"375.403125\" xlink:href=\"#me9ca6e6f3f\" y=\"34.027817\"/>\r\n      </g>\r\n     </g>\r\n     <g id=\"text_14\">\r\n      <!-- 30 -->\r\n      <g transform=\"translate(355.678125 37.827036)scale(0.1 -0.1)\">\r\n       <use xlink:href=\"#DejaVuSans-51\"/>\r\n       <use x=\"63.623047\" xlink:href=\"#DejaVuSans-48\"/>\r\n      </g>\r\n     </g>\r\n    </g>\r\n    <g id=\"text_15\">\r\n     <!-- z -->\r\n     <defs>\r\n      <path d=\"M 5.515625 54.6875 \r\nL 48.1875 54.6875 \r\nL 48.1875 46.484375 \r\nL 14.40625 7.171875 \r\nL 48.1875 7.171875 \r\nL 48.1875 0 \r\nL 4.296875 0 \r\nL 4.296875 8.203125 \r\nL 38.09375 47.515625 \r\nL 5.515625 47.515625 \r\nz\r\n\" id=\"DejaVuSans-122\"/>\r\n     </defs>\r\n     <g transform=\"translate(349.598437 145.724219)rotate(-90)scale(0.1 -0.1)\">\r\n      <use xlink:href=\"#DejaVuSans-122\"/>\r\n     </g>\r\n    </g>\r\n   </g>\r\n   <g id=\"line2d_22\">\r\n    <path clip-path=\"url(#p201dcbd99c)\" d=\"M 487.003125 251.850555 \r\nL 487.003125 263.911614 \r\n\" style=\"fill:none;stroke:#3f3f3f;stroke-linecap:square;stroke-width:1.5;\"/>\r\n   </g>\r\n   <g id=\"line2d_23\">\r\n    <path clip-path=\"url(#p201dcbd99c)\" d=\"M 487.003125 242.764556 \r\nL 487.003125 229.175763 \r\n\" style=\"fill:none;stroke:#3f3f3f;stroke-linecap:square;stroke-width:1.5;\"/>\r\n   </g>\r\n   <g id=\"line2d_24\">\r\n    <path clip-path=\"url(#p201dcbd99c)\" d=\"M 442.363125 263.911614 \r\nL 531.643125 263.911614 \r\n\" style=\"fill:none;stroke:#3f3f3f;stroke-linecap:square;stroke-width:1.5;\"/>\r\n   </g>\r\n   <g id=\"line2d_25\">\r\n    <path clip-path=\"url(#p201dcbd99c)\" d=\"M 442.363125 229.175763 \r\nL 531.643125 229.175763 \r\n\" style=\"fill:none;stroke:#3f3f3f;stroke-linecap:square;stroke-width:1.5;\"/>\r\n   </g>\r\n   <g id=\"line2d_26\">\r\n    <g clip-path=\"url(#p201dcbd99c)\">\r\n     <use style=\"fill:#3f3f3f;stroke:#3f3f3f;stroke-linejoin:miter;\" x=\"487.003125\" xlink:href=\"#me9fef5a2f5\" y=\"266.645455\"/>\r\n     <use style=\"fill:#3f3f3f;stroke:#3f3f3f;stroke-linejoin:miter;\" x=\"487.003125\" xlink:href=\"#me9fef5a2f5\" y=\"228.854134\"/>\r\n     <use style=\"fill:#3f3f3f;stroke:#3f3f3f;stroke-linejoin:miter;\" x=\"487.003125\" xlink:href=\"#me9fef5a2f5\" y=\"228.934541\"/>\r\n     <use style=\"fill:#3f3f3f;stroke:#3f3f3f;stroke-linejoin:miter;\" x=\"487.003125\" xlink:href=\"#me9fef5a2f5\" y=\"227.245993\"/>\r\n     <use style=\"fill:#3f3f3f;stroke:#3f3f3f;stroke-linejoin:miter;\" x=\"487.003125\" xlink:href=\"#me9fef5a2f5\" y=\"227.165586\"/>\r\n     <use style=\"fill:#3f3f3f;stroke:#3f3f3f;stroke-linejoin:miter;\" x=\"487.003125\" xlink:href=\"#me9fef5a2f5\" y=\"227.728435\"/>\r\n     <use style=\"fill:#3f3f3f;stroke:#3f3f3f;stroke-linejoin:miter;\" x=\"487.003125\" xlink:href=\"#me9fef5a2f5\" y=\"228.69332\"/>\r\n     <use style=\"fill:#3f3f3f;stroke:#3f3f3f;stroke-linejoin:miter;\" x=\"487.003125\" xlink:href=\"#me9fef5a2f5\" y=\"223.949303\"/>\r\n     <use style=\"fill:#3f3f3f;stroke:#3f3f3f;stroke-linejoin:miter;\" x=\"487.003125\" xlink:href=\"#me9fef5a2f5\" y=\"210.440916\"/>\r\n     <use style=\"fill:#3f3f3f;stroke:#3f3f3f;stroke-linejoin:miter;\" x=\"487.003125\" xlink:href=\"#me9fef5a2f5\" y=\"228.210878\"/>\r\n     <use style=\"fill:#3f3f3f;stroke:#3f3f3f;stroke-linejoin:miter;\" x=\"487.003125\" xlink:href=\"#me9fef5a2f5\" y=\"227.648028\"/>\r\n     <use style=\"fill:#3f3f3f;stroke:#3f3f3f;stroke-linejoin:miter;\" x=\"487.003125\" xlink:href=\"#me9fef5a2f5\" y=\"226.763551\"/>\r\n     <use style=\"fill:#3f3f3f;stroke:#3f3f3f;stroke-linejoin:miter;\" x=\"487.003125\" xlink:href=\"#me9fef5a2f5\" y=\"225.637852\"/>\r\n     <use style=\"fill:#3f3f3f;stroke:#3f3f3f;stroke-linejoin:miter;\" x=\"487.003125\" xlink:href=\"#me9fef5a2f5\" y=\"225.075002\"/>\r\n     <use style=\"fill:#3f3f3f;stroke:#3f3f3f;stroke-linejoin:miter;\" x=\"487.003125\" xlink:href=\"#me9fef5a2f5\" y=\"229.014948\"/>\r\n     <use style=\"fill:#3f3f3f;stroke:#3f3f3f;stroke-linejoin:miter;\" x=\"487.003125\" xlink:href=\"#me9fef5a2f5\" y=\"225.718259\"/>\r\n     <use style=\"fill:#3f3f3f;stroke:#3f3f3f;stroke-linejoin:miter;\" x=\"487.003125\" xlink:href=\"#me9fef5a2f5\" y=\"224.833781\"/>\r\n     <use style=\"fill:#3f3f3f;stroke:#3f3f3f;stroke-linejoin:miter;\" x=\"487.003125\" xlink:href=\"#me9fef5a2f5\" y=\"224.512153\"/>\r\n     <use style=\"fill:#3f3f3f;stroke:#3f3f3f;stroke-linejoin:miter;\" x=\"487.003125\" xlink:href=\"#me9fef5a2f5\" y=\"225.95948\"/>\r\n     <use style=\"fill:#3f3f3f;stroke:#3f3f3f;stroke-linejoin:miter;\" x=\"487.003125\" xlink:href=\"#me9fef5a2f5\" y=\"228.130471\"/>\r\n     <use style=\"fill:#3f3f3f;stroke:#3f3f3f;stroke-linejoin:miter;\" x=\"487.003125\" xlink:href=\"#me9fef5a2f5\" y=\"223.547268\"/>\r\n     <use style=\"fill:#3f3f3f;stroke:#3f3f3f;stroke-linejoin:miter;\" x=\"487.003125\" xlink:href=\"#me9fef5a2f5\" y=\"219.124879\"/>\r\n     <use style=\"fill:#3f3f3f;stroke:#3f3f3f;stroke-linejoin:miter;\" x=\"487.003125\" xlink:href=\"#me9fef5a2f5\" y=\"227.808842\"/>\r\n     <use style=\"fill:#3f3f3f;stroke:#3f3f3f;stroke-linejoin:miter;\" x=\"487.003125\" xlink:href=\"#me9fef5a2f5\" y=\"227.808842\"/>\r\n     <use style=\"fill:#3f3f3f;stroke:#3f3f3f;stroke-linejoin:miter;\" x=\"487.003125\" xlink:href=\"#me9fef5a2f5\" y=\"228.854134\"/>\r\n     <use style=\"fill:#3f3f3f;stroke:#3f3f3f;stroke-linejoin:miter;\" x=\"487.003125\" xlink:href=\"#me9fef5a2f5\" y=\"228.854134\"/>\r\n     <use style=\"fill:#3f3f3f;stroke:#3f3f3f;stroke-linejoin:miter;\" x=\"487.003125\" xlink:href=\"#me9fef5a2f5\" y=\"221.215463\"/>\r\n     <use style=\"fill:#3f3f3f;stroke:#3f3f3f;stroke-linejoin:miter;\" x=\"487.003125\" xlink:href=\"#me9fef5a2f5\" y=\"226.763551\"/>\r\n     <use style=\"fill:#3f3f3f;stroke:#3f3f3f;stroke-linejoin:miter;\" x=\"487.003125\" xlink:href=\"#me9fef5a2f5\" y=\"19.554545\"/>\r\n    </g>\r\n   </g>\r\n   <g id=\"line2d_27\">\r\n    <path clip-path=\"url(#p201dcbd99c)\" d=\"M 397.723125 246.865317 \r\nL 576.283125 246.865317 \r\n\" style=\"fill:none;stroke:#3f3f3f;stroke-linecap:square;stroke-width:1.5;\"/>\r\n   </g>\r\n   <g id=\"patch_10\">\r\n    <path d=\"M 375.403125 279 \r\nL 375.403125 7.2 \r\n\" style=\"fill:none;stroke:#000000;stroke-linecap:square;stroke-linejoin:miter;stroke-width:0.8;\"/>\r\n   </g>\r\n   <g id=\"patch_11\">\r\n    <path d=\"M 598.603125 279 \r\nL 598.603125 7.2 \r\n\" style=\"fill:none;stroke:#000000;stroke-linecap:square;stroke-linejoin:miter;stroke-width:0.8;\"/>\r\n   </g>\r\n   <g id=\"patch_12\">\r\n    <path d=\"M 375.403125 279 \r\nL 598.603125 279 \r\n\" style=\"fill:none;stroke:#000000;stroke-linecap:square;stroke-linejoin:miter;stroke-width:0.8;\"/>\r\n   </g>\r\n   <g id=\"patch_13\">\r\n    <path d=\"M 375.403125 7.2 \r\nL 598.603125 7.2 \r\n\" style=\"fill:none;stroke:#000000;stroke-linecap:square;stroke-linejoin:miter;stroke-width:0.8;\"/>\r\n   </g>\r\n  </g>\r\n </g>\r\n <defs>\r\n  <clipPath id=\"p15401f75c1\">\r\n   <rect height=\"271.8\" width=\"223.2\" x=\"40.603125\" y=\"7.2\"/>\r\n  </clipPath>\r\n  <clipPath id=\"p201dcbd99c\">\r\n   <rect height=\"271.8\" width=\"223.2\" x=\"375.403125\" y=\"7.2\"/>\r\n  </clipPath>\r\n </defs>\r\n</svg>\r\n",
      "image/png": "[encoded data removed]"
     },
     "metadata": {
      "needs_background": "light"
     }
    }
   ],
   "source": [
    "#Run this code\n",
    "fig, ax = plt.subplots(1,2, figsize=(10, 5))\n",
    "sns.boxplot(y=diamonds.y, ax=ax[0])\n",
    "sns.boxplot(y=diamonds.z, ax=ax[1])\n",
    "plt.subplots_adjust(wspace=0.5)"
   ]
  },
  {
   "cell_type": "markdown",
   "metadata": {},
   "source": [
    "We have 2 big outliers in y and 1 in z. Now we know that our max values for y should be around 10 and the values for z should be around 6, so let's filter our dataset to find values for z higher than 10 in it."
   ]
  },
  {
   "cell_type": "code",
   "execution_count": 70,
   "metadata": {},
   "outputs": [
    {
     "output_type": "execute_result",
     "data": {
      "text/plain": [
       "       Unnamed: 0  carat        cut  color  clarity  depth  table  price  \\\n",
       "48410       48411   0.51  Very Good      5        4   61.8   54.7   1970   \n",
       "\n",
       "          x     y     z  \n",
       "48410  5.12  5.15  31.8  "
      ],
      "text/html": "<div>\n<style scoped>\n    .dataframe tbody tr th:only-of-type {\n        vertical-align: middle;\n    }\n\n    .dataframe tbody tr th {\n        vertical-align: top;\n    }\n\n    .dataframe thead th {\n        text-align: right;\n    }\n</style>\n<table border=\"1\" class=\"dataframe\">\n  <thead>\n    <tr style=\"text-align: right;\">\n      <th></th>\n      <th>Unnamed: 0</th>\n      <th>carat</th>\n      <th>cut</th>\n      <th>color</th>\n      <th>clarity</th>\n      <th>depth</th>\n      <th>table</th>\n      <th>price</th>\n      <th>x</th>\n      <th>y</th>\n      <th>z</th>\n    </tr>\n  </thead>\n  <tbody>\n    <tr>\n      <th>48410</th>\n      <td>48411</td>\n      <td>0.51</td>\n      <td>Very Good</td>\n      <td>5</td>\n      <td>4</td>\n      <td>61.8</td>\n      <td>54.7</td>\n      <td>1970</td>\n      <td>5.12</td>\n      <td>5.15</td>\n      <td>31.8</td>\n    </tr>\n  </tbody>\n</table>\n</div>"
     },
     "metadata": {},
     "execution_count": 70
    }
   ],
   "source": [
    "#your code here\n",
    "diamonds[diamonds['z']>10]"
   ]
  },
  {
   "cell_type": "code",
   "execution_count": 71,
   "metadata": {},
   "outputs": [],
   "source": [
    "#your code here\n",
    "diamonds['z'].loc[48410]=0\n",
    "diamonds['z'].loc[48410] = calculate_z(diamonds.loc[48410])"
   ]
  },
  {
   "cell_type": "markdown",
   "metadata": {},
   "source": [
    "Let's check if we actually corrected the outlier."
   ]
  },
  {
   "cell_type": "code",
   "execution_count": 72,
   "metadata": {},
   "outputs": [
    {
     "output_type": "execute_result",
     "data": {
      "text/plain": [
       "Unnamed: 0        48411\n",
       "carat              0.51\n",
       "cut           Very Good\n",
       "color                 5\n",
       "clarity               4\n",
       "depth              61.8\n",
       "table              54.7\n",
       "price              1970\n",
       "x                  5.12\n",
       "y                  5.15\n",
       "z               3.17343\n",
       "Name: 48410, dtype: object"
      ]
     },
     "metadata": {},
     "execution_count": 72
    }
   ],
   "source": [
    "diamonds.loc[48410]"
   ]
  },
  {
   "cell_type": "code",
   "execution_count": 73,
   "metadata": {},
   "outputs": [
    {
     "output_type": "execute_result",
     "data": {
      "text/plain": [
       "       Unnamed: 0  carat      cut  color  clarity  depth  table  price      x  \\\n",
       "24067       24068   2.00  Premium      2        1   58.9   57.0  12210   8.09   \n",
       "25998       25999   4.01  Premium      1        0   61.0   61.0  15223  10.14   \n",
       "27415       27416   5.01     Fair      0        0   65.5   59.0  18018  10.74   \n",
       "27630       27631   4.50     Fair      0        0   65.8   58.0  18531  10.23   \n",
       "49189       49190   0.51    Ideal      5        4   61.8   55.0   2075   5.15   \n",
       "\n",
       "           y     z  \n",
       "24067  58.90  8.06  \n",
       "25998  10.10  6.17  \n",
       "27415  10.54  6.98  \n",
       "27630  10.16  6.72  \n",
       "49189  31.80  5.12  "
      ],
      "text/html": "<div>\n<style scoped>\n    .dataframe tbody tr th:only-of-type {\n        vertical-align: middle;\n    }\n\n    .dataframe tbody tr th {\n        vertical-align: top;\n    }\n\n    .dataframe thead th {\n        text-align: right;\n    }\n</style>\n<table border=\"1\" class=\"dataframe\">\n  <thead>\n    <tr style=\"text-align: right;\">\n      <th></th>\n      <th>Unnamed: 0</th>\n      <th>carat</th>\n      <th>cut</th>\n      <th>color</th>\n      <th>clarity</th>\n      <th>depth</th>\n      <th>table</th>\n      <th>price</th>\n      <th>x</th>\n      <th>y</th>\n      <th>z</th>\n    </tr>\n  </thead>\n  <tbody>\n    <tr>\n      <th>24067</th>\n      <td>24068</td>\n      <td>2.00</td>\n      <td>Premium</td>\n      <td>2</td>\n      <td>1</td>\n      <td>58.9</td>\n      <td>57.0</td>\n      <td>12210</td>\n      <td>8.09</td>\n      <td>58.90</td>\n      <td>8.06</td>\n    </tr>\n    <tr>\n      <th>25998</th>\n      <td>25999</td>\n      <td>4.01</td>\n      <td>Premium</td>\n      <td>1</td>\n      <td>0</td>\n      <td>61.0</td>\n      <td>61.0</td>\n      <td>15223</td>\n      <td>10.14</td>\n      <td>10.10</td>\n      <td>6.17</td>\n    </tr>\n    <tr>\n      <th>27415</th>\n      <td>27416</td>\n      <td>5.01</td>\n      <td>Fair</td>\n      <td>0</td>\n      <td>0</td>\n      <td>65.5</td>\n      <td>59.0</td>\n      <td>18018</td>\n      <td>10.74</td>\n      <td>10.54</td>\n      <td>6.98</td>\n    </tr>\n    <tr>\n      <th>27630</th>\n      <td>27631</td>\n      <td>4.50</td>\n      <td>Fair</td>\n      <td>0</td>\n      <td>0</td>\n      <td>65.8</td>\n      <td>58.0</td>\n      <td>18531</td>\n      <td>10.23</td>\n      <td>10.16</td>\n      <td>6.72</td>\n    </tr>\n    <tr>\n      <th>49189</th>\n      <td>49190</td>\n      <td>0.51</td>\n      <td>Ideal</td>\n      <td>5</td>\n      <td>4</td>\n      <td>61.8</td>\n      <td>55.0</td>\n      <td>2075</td>\n      <td>5.15</td>\n      <td>31.80</td>\n      <td>5.12</td>\n    </tr>\n  </tbody>\n</table>\n</div>"
     },
     "metadata": {},
     "execution_count": 73
    }
   ],
   "source": [
    "#your code here\n",
    "diamonds[diamonds['y']>10]"
   ]
  },
  {
   "cell_type": "code",
   "execution_count": 79,
   "metadata": {},
   "outputs": [],
   "source": [
    "#your code here\n",
    "# depth% = 2 * z / (x + y)\n",
    "def calculate_y(row):\n",
    "    #data = [x,y]\n",
    "    #return depth*(statistics.mean(data)\n",
    "    if row['y'] == 0:\n",
    "        return (200*row['z']/row['depth'])-row['x']\n",
    "    else:\n",
    "        return row\n",
    "\n",
    "diamonds['y'].loc[24067]=0\n",
    "diamonds['y'].loc[25998]=0\n",
    "diamonds['y'].loc[27415]=0\n",
    "diamonds['y'].loc[27630]=0\n",
    "diamonds['y'].loc[49189]=0\n",
    "\n",
    "diamonds['y'].loc[24067] = calculate_y(diamonds.loc[24067])\n",
    "diamonds['y'].loc[25998] = calculate_y(diamonds.loc[25998])\n",
    "diamonds['y'].loc[27415] = calculate_y(diamonds.loc[27415])\n",
    "diamonds['y'].loc[27630] = calculate_y(diamonds.loc[27630])\n",
    "diamonds['y'].loc[49189] = calculate_y(diamonds.loc[49189])"
   ]
  },
  {
   "cell_type": "code",
   "execution_count": 87,
   "metadata": {},
   "outputs": [
    {
     "output_type": "stream",
     "name": "stdout",
     "text": [
      "Unnamed: 0    26969.50\ncarat             0.64\ncolor             3.00\nclarity           2.00\ndepth             1.50\ntable             3.00\nprice          4374.25\nx                 1.83\ny                 1.82\nz                 1.13\ndtype: float64\n"
     ]
    },
    {
     "output_type": "execute_result",
     "data": {
      "text/plain": [
       "       Unnamed: 0  carat  clarity  color  cut  depth  price  table   x   y   z\n",
       "0             NaN    NaN      NaN    NaN  NaN    NaN    NaN    NaN NaN NaN NaN\n",
       "1             NaN    NaN      NaN    NaN  NaN    NaN    NaN    NaN NaN NaN NaN\n",
       "2             NaN    NaN      NaN    NaN  NaN    1.0    NaN    1.0 NaN NaN NaN\n",
       "3             NaN    NaN      NaN    NaN  NaN    NaN    NaN    NaN NaN NaN NaN\n",
       "4             NaN    NaN      NaN    NaN  NaN    NaN    NaN    NaN NaN NaN NaN\n",
       "...           ...    ...      ...    ...  ...    ...    ...    ...  ..  ..  ..\n",
       "53935         NaN    NaN      NaN    NaN  NaN    NaN    NaN    NaN NaN NaN NaN\n",
       "53936         NaN    NaN      NaN    NaN  NaN    NaN    NaN    NaN NaN NaN NaN\n",
       "53937         NaN    NaN      NaN    NaN  NaN    NaN    NaN    NaN NaN NaN NaN\n",
       "53938         NaN    NaN      NaN    NaN  NaN    NaN    NaN    NaN NaN NaN NaN\n",
       "53939         NaN    NaN      NaN    NaN  NaN    NaN    NaN    NaN NaN NaN NaN\n",
       "\n",
       "[53920 rows x 11 columns]"
      ],
      "text/html": "<div>\n<style scoped>\n    .dataframe tbody tr th:only-of-type {\n        vertical-align: middle;\n    }\n\n    .dataframe tbody tr th {\n        vertical-align: top;\n    }\n\n    .dataframe thead th {\n        text-align: right;\n    }\n</style>\n<table border=\"1\" class=\"dataframe\">\n  <thead>\n    <tr style=\"text-align: right;\">\n      <th></th>\n      <th>Unnamed: 0</th>\n      <th>carat</th>\n      <th>clarity</th>\n      <th>color</th>\n      <th>cut</th>\n      <th>depth</th>\n      <th>price</th>\n      <th>table</th>\n      <th>x</th>\n      <th>y</th>\n      <th>z</th>\n    </tr>\n  </thead>\n  <tbody>\n    <tr>\n      <th>0</th>\n      <td>NaN</td>\n      <td>NaN</td>\n      <td>NaN</td>\n      <td>NaN</td>\n      <td>NaN</td>\n      <td>NaN</td>\n      <td>NaN</td>\n      <td>NaN</td>\n      <td>NaN</td>\n      <td>NaN</td>\n      <td>NaN</td>\n    </tr>\n    <tr>\n      <th>1</th>\n      <td>NaN</td>\n      <td>NaN</td>\n      <td>NaN</td>\n      <td>NaN</td>\n      <td>NaN</td>\n      <td>NaN</td>\n      <td>NaN</td>\n      <td>NaN</td>\n      <td>NaN</td>\n      <td>NaN</td>\n      <td>NaN</td>\n    </tr>\n    <tr>\n      <th>2</th>\n      <td>NaN</td>\n      <td>NaN</td>\n      <td>NaN</td>\n      <td>NaN</td>\n      <td>NaN</td>\n      <td>1.0</td>\n      <td>NaN</td>\n      <td>1.0</td>\n      <td>NaN</td>\n      <td>NaN</td>\n      <td>NaN</td>\n    </tr>\n    <tr>\n      <th>3</th>\n      <td>NaN</td>\n      <td>NaN</td>\n      <td>NaN</td>\n      <td>NaN</td>\n      <td>NaN</td>\n      <td>NaN</td>\n      <td>NaN</td>\n      <td>NaN</td>\n      <td>NaN</td>\n      <td>NaN</td>\n      <td>NaN</td>\n    </tr>\n    <tr>\n      <th>4</th>\n      <td>NaN</td>\n      <td>NaN</td>\n      <td>NaN</td>\n      <td>NaN</td>\n      <td>NaN</td>\n      <td>NaN</td>\n      <td>NaN</td>\n      <td>NaN</td>\n      <td>NaN</td>\n      <td>NaN</td>\n      <td>NaN</td>\n    </tr>\n    <tr>\n      <th>...</th>\n      <td>...</td>\n      <td>...</td>\n      <td>...</td>\n      <td>...</td>\n      <td>...</td>\n      <td>...</td>\n      <td>...</td>\n      <td>...</td>\n      <td>...</td>\n      <td>...</td>\n      <td>...</td>\n    </tr>\n    <tr>\n      <th>53935</th>\n      <td>NaN</td>\n      <td>NaN</td>\n      <td>NaN</td>\n      <td>NaN</td>\n      <td>NaN</td>\n      <td>NaN</td>\n      <td>NaN</td>\n      <td>NaN</td>\n      <td>NaN</td>\n      <td>NaN</td>\n      <td>NaN</td>\n    </tr>\n    <tr>\n      <th>53936</th>\n      <td>NaN</td>\n      <td>NaN</td>\n      <td>NaN</td>\n      <td>NaN</td>\n      <td>NaN</td>\n      <td>NaN</td>\n      <td>NaN</td>\n      <td>NaN</td>\n      <td>NaN</td>\n      <td>NaN</td>\n      <td>NaN</td>\n    </tr>\n    <tr>\n      <th>53937</th>\n      <td>NaN</td>\n      <td>NaN</td>\n      <td>NaN</td>\n      <td>NaN</td>\n      <td>NaN</td>\n      <td>NaN</td>\n      <td>NaN</td>\n      <td>NaN</td>\n      <td>NaN</td>\n      <td>NaN</td>\n      <td>NaN</td>\n    </tr>\n    <tr>\n      <th>53938</th>\n      <td>NaN</td>\n      <td>NaN</td>\n      <td>NaN</td>\n      <td>NaN</td>\n      <td>NaN</td>\n      <td>NaN</td>\n      <td>NaN</td>\n      <td>NaN</td>\n      <td>NaN</td>\n      <td>NaN</td>\n      <td>NaN</td>\n    </tr>\n    <tr>\n      <th>53939</th>\n      <td>NaN</td>\n      <td>NaN</td>\n      <td>NaN</td>\n      <td>NaN</td>\n      <td>NaN</td>\n      <td>NaN</td>\n      <td>NaN</td>\n      <td>NaN</td>\n      <td>NaN</td>\n      <td>NaN</td>\n      <td>NaN</td>\n    </tr>\n  </tbody>\n</table>\n<p>53920 rows × 11 columns</p>\n</div>"
     },
     "metadata": {},
     "execution_count": 87
    }
   ],
   "source": [
    "#your thoughts here\n",
    "diamonds[diamonds['y']>10] \n",
    "#the rolls still have y>10 value but now it's not so higher than 10\n",
    "\n",
    "#Let's check if y=19 is an outlier:\n",
    "Q1 = diamonds.quantile(0.25)\n",
    "Q3 = diamonds.quantile(0.75)\n",
    "IQR = Q3 - Q1\n",
    "print(IQR)\n",
    "\n",
    "diamonds_outliers = (diamonds < (Q1 - 1.5 * IQR)) |(diamonds > (Q3 + 1.5 * IQR))\n",
    "diamonds_outliers[diamonds_outliers==True]"
   ]
  },
  {
   "cell_type": "code",
   "execution_count": 80,
   "metadata": {},
   "outputs": [
    {
     "output_type": "display_data",
     "data": {
      "text/plain": "<Figure size 720x360 with 2 Axes>",
      "image/svg+xml": "<?xml version=\"1.0\" encoding=\"utf-8\" standalone=\"no\"?>\r\n<!DOCTYPE svg PUBLIC \"-//W3C//DTD SVG 1.1//EN\"\r\n  \"http://www.w3.org/Graphics/SVG/1.1/DTD/svg11.dtd\">\r\n<!-- Created with matplotlib (https://matplotlib.org/) -->\r\n<svg height=\"292.575035pt\" version=\"1.1\" viewBox=\"0 0 605.803125 292.575035\" width=\"605.803125pt\" xmlns=\"http://www.w3.org/2000/svg\" xmlns:xlink=\"http://www.w3.org/1999/xlink\">\r\n <defs>\r\n  <style type=\"text/css\">\r\n*{stroke-linecap:butt;stroke-linejoin:round;}\r\n  </style>\r\n </defs>\r\n <g id=\"figure_1\">\r\n  <g id=\"patch_1\">\r\n   <path d=\"M 0 292.575035 \r\nL 605.803125 292.575035 \r\nL 605.803125 0 \r\nL 0 0 \r\nz\r\n\" style=\"fill:none;\"/>\r\n  </g>\r\n  <g id=\"axes_1\">\r\n   <g id=\"patch_2\">\r\n    <path d=\"M 40.603125 281.875035 \r\nL 263.803125 281.875035 \r\nL 263.803125 10.075035 \r\nL 40.603125 10.075035 \r\nz\r\n\" style=\"fill:#ffffff;\"/>\r\n   </g>\r\n   <g id=\"patch_3\">\r\n    <path clip-path=\"url(#p653855a97c)\" d=\"M 62.923125 253.046095 \r\nL 241.483125 253.046095 \r\nL 241.483125 224.215904 \r\nL 62.923125 224.215904 \r\nL 62.923125 253.046095 \r\nz\r\n\" style=\"fill:#3274a1;stroke:#3f3f3f;stroke-linejoin:miter;stroke-width:1.5;\"/>\r\n   </g>\r\n   <g id=\"matplotlib.axis_1\">\r\n    <g id=\"xtick_1\">\r\n     <g id=\"line2d_1\">\r\n      <defs>\r\n       <path d=\"M 0 0 \r\nL 0 3.5 \r\n\" id=\"m2138a45a9c\" style=\"stroke:#000000;stroke-width:0.8;\"/>\r\n      </defs>\r\n      <g>\r\n       <use style=\"stroke:#000000;stroke-width:0.8;\" x=\"152.203125\" xlink:href=\"#m2138a45a9c\" y=\"281.875035\"/>\r\n      </g>\r\n     </g>\r\n    </g>\r\n   </g>\r\n   <g id=\"matplotlib.axis_2\">\r\n    <g id=\"ytick_1\">\r\n     <g id=\"line2d_2\">\r\n      <defs>\r\n       <path d=\"M 0 0 \r\nL -3.5 0 \r\n\" id=\"m42e31d67fc\" style=\"stroke:#000000;stroke-width:0.8;\"/>\r\n      </defs>\r\n      <g>\r\n       <use style=\"stroke:#000000;stroke-width:0.8;\" x=\"40.603125\" xlink:href=\"#m42e31d67fc\" y=\"264.451445\"/>\r\n      </g>\r\n     </g>\r\n     <g id=\"text_1\">\r\n      <!-- 4 -->\r\n      <defs>\r\n       <path d=\"M 37.796875 64.3125 \r\nL 12.890625 25.390625 \r\nL 37.796875 25.390625 \r\nz\r\nM 35.203125 72.90625 \r\nL 47.609375 72.90625 \r\nL 47.609375 25.390625 \r\nL 58.015625 25.390625 \r\nL 58.015625 17.1875 \r\nL 47.609375 17.1875 \r\nL 47.609375 0 \r\nL 37.796875 0 \r\nL 37.796875 17.1875 \r\nL 4.890625 17.1875 \r\nL 4.890625 26.703125 \r\nz\r\n\" id=\"DejaVuSans-52\"/>\r\n      </defs>\r\n      <g transform=\"translate(27.240625 268.250664)scale(0.1 -0.1)\">\r\n       <use xlink:href=\"#DejaVuSans-52\"/>\r\n      </g>\r\n     </g>\r\n    </g>\r\n    <g id=\"ytick_2\">\r\n     <g id=\"line2d_3\">\r\n      <g>\r\n       <use style=\"stroke:#000000;stroke-width:0.8;\" x=\"40.603125\" xlink:href=\"#m42e31d67fc\" y=\"232.769917\"/>\r\n      </g>\r\n     </g>\r\n     <g id=\"text_2\">\r\n      <!-- 6 -->\r\n      <defs>\r\n       <path d=\"M 33.015625 40.375 \r\nQ 26.375 40.375 22.484375 35.828125 \r\nQ 18.609375 31.296875 18.609375 23.390625 \r\nQ 18.609375 15.53125 22.484375 10.953125 \r\nQ 26.375 6.390625 33.015625 6.390625 \r\nQ 39.65625 6.390625 43.53125 10.953125 \r\nQ 47.40625 15.53125 47.40625 23.390625 \r\nQ 47.40625 31.296875 43.53125 35.828125 \r\nQ 39.65625 40.375 33.015625 40.375 \r\nz\r\nM 52.59375 71.296875 \r\nL 52.59375 62.3125 \r\nQ 48.875 64.0625 45.09375 64.984375 \r\nQ 41.3125 65.921875 37.59375 65.921875 \r\nQ 27.828125 65.921875 22.671875 59.328125 \r\nQ 17.53125 52.734375 16.796875 39.40625 \r\nQ 19.671875 43.65625 24.015625 45.921875 \r\nQ 28.375 48.1875 33.59375 48.1875 \r\nQ 44.578125 48.1875 50.953125 41.515625 \r\nQ 57.328125 34.859375 57.328125 23.390625 \r\nQ 57.328125 12.15625 50.6875 5.359375 \r\nQ 44.046875 -1.421875 33.015625 -1.421875 \r\nQ 20.359375 -1.421875 13.671875 8.265625 \r\nQ 6.984375 17.96875 6.984375 36.375 \r\nQ 6.984375 53.65625 15.1875 63.9375 \r\nQ 23.390625 74.21875 37.203125 74.21875 \r\nQ 40.921875 74.21875 44.703125 73.484375 \r\nQ 48.484375 72.75 52.59375 71.296875 \r\nz\r\n\" id=\"DejaVuSans-54\"/>\r\n      </defs>\r\n      <g transform=\"translate(27.240625 236.569136)scale(0.1 -0.1)\">\r\n       <use xlink:href=\"#DejaVuSans-54\"/>\r\n      </g>\r\n     </g>\r\n    </g>\r\n    <g id=\"ytick_3\">\r\n     <g id=\"line2d_4\">\r\n      <g>\r\n       <use style=\"stroke:#000000;stroke-width:0.8;\" x=\"40.603125\" xlink:href=\"#m42e31d67fc\" y=\"201.088389\"/>\r\n      </g>\r\n     </g>\r\n     <g id=\"text_3\">\r\n      <!-- 8 -->\r\n      <defs>\r\n       <path d=\"M 31.78125 34.625 \r\nQ 24.75 34.625 20.71875 30.859375 \r\nQ 16.703125 27.09375 16.703125 20.515625 \r\nQ 16.703125 13.921875 20.71875 10.15625 \r\nQ 24.75 6.390625 31.78125 6.390625 \r\nQ 38.8125 6.390625 42.859375 10.171875 \r\nQ 46.921875 13.96875 46.921875 20.515625 \r\nQ 46.921875 27.09375 42.890625 30.859375 \r\nQ 38.875 34.625 31.78125 34.625 \r\nz\r\nM 21.921875 38.8125 \r\nQ 15.578125 40.375 12.03125 44.71875 \r\nQ 8.5 49.078125 8.5 55.328125 \r\nQ 8.5 64.0625 14.71875 69.140625 \r\nQ 20.953125 74.21875 31.78125 74.21875 \r\nQ 42.671875 74.21875 48.875 69.140625 \r\nQ 55.078125 64.0625 55.078125 55.328125 \r\nQ 55.078125 49.078125 51.53125 44.71875 \r\nQ 48 40.375 41.703125 38.8125 \r\nQ 48.828125 37.15625 52.796875 32.3125 \r\nQ 56.78125 27.484375 56.78125 20.515625 \r\nQ 56.78125 9.90625 50.3125 4.234375 \r\nQ 43.84375 -1.421875 31.78125 -1.421875 \r\nQ 19.734375 -1.421875 13.25 4.234375 \r\nQ 6.78125 9.90625 6.78125 20.515625 \r\nQ 6.78125 27.484375 10.78125 32.3125 \r\nQ 14.796875 37.15625 21.921875 38.8125 \r\nz\r\nM 18.3125 54.390625 \r\nQ 18.3125 48.734375 21.84375 45.5625 \r\nQ 25.390625 42.390625 31.78125 42.390625 \r\nQ 38.140625 42.390625 41.71875 45.5625 \r\nQ 45.3125 48.734375 45.3125 54.390625 \r\nQ 45.3125 60.0625 41.71875 63.234375 \r\nQ 38.140625 66.40625 31.78125 66.40625 \r\nQ 25.390625 66.40625 21.84375 63.234375 \r\nQ 18.3125 60.0625 18.3125 54.390625 \r\nz\r\n\" id=\"DejaVuSans-56\"/>\r\n      </defs>\r\n      <g transform=\"translate(27.240625 204.887607)scale(0.1 -0.1)\">\r\n       <use xlink:href=\"#DejaVuSans-56\"/>\r\n      </g>\r\n     </g>\r\n    </g>\r\n    <g id=\"ytick_4\">\r\n     <g id=\"line2d_5\">\r\n      <g>\r\n       <use style=\"stroke:#000000;stroke-width:0.8;\" x=\"40.603125\" xlink:href=\"#m42e31d67fc\" y=\"169.40686\"/>\r\n      </g>\r\n     </g>\r\n     <g id=\"text_4\">\r\n      <!-- 10 -->\r\n      <defs>\r\n       <path d=\"M 12.40625 8.296875 \r\nL 28.515625 8.296875 \r\nL 28.515625 63.921875 \r\nL 10.984375 60.40625 \r\nL 10.984375 69.390625 \r\nL 28.421875 72.90625 \r\nL 38.28125 72.90625 \r\nL 38.28125 8.296875 \r\nL 54.390625 8.296875 \r\nL 54.390625 0 \r\nL 12.40625 0 \r\nz\r\n\" id=\"DejaVuSans-49\"/>\r\n       <path d=\"M 31.78125 66.40625 \r\nQ 24.171875 66.40625 20.328125 58.90625 \r\nQ 16.5 51.421875 16.5 36.375 \r\nQ 16.5 21.390625 20.328125 13.890625 \r\nQ 24.171875 6.390625 31.78125 6.390625 \r\nQ 39.453125 6.390625 43.28125 13.890625 \r\nQ 47.125 21.390625 47.125 36.375 \r\nQ 47.125 51.421875 43.28125 58.90625 \r\nQ 39.453125 66.40625 31.78125 66.40625 \r\nz\r\nM 31.78125 74.21875 \r\nQ 44.046875 74.21875 50.515625 64.515625 \r\nQ 56.984375 54.828125 56.984375 36.375 \r\nQ 56.984375 17.96875 50.515625 8.265625 \r\nQ 44.046875 -1.421875 31.78125 -1.421875 \r\nQ 19.53125 -1.421875 13.0625 8.265625 \r\nQ 6.59375 17.96875 6.59375 36.375 \r\nQ 6.59375 54.828125 13.0625 64.515625 \r\nQ 19.53125 74.21875 31.78125 74.21875 \r\nz\r\n\" id=\"DejaVuSans-48\"/>\r\n      </defs>\r\n      <g transform=\"translate(20.878125 173.206079)scale(0.1 -0.1)\">\r\n       <use xlink:href=\"#DejaVuSans-49\"/>\r\n       <use x=\"63.623047\" xlink:href=\"#DejaVuSans-48\"/>\r\n      </g>\r\n     </g>\r\n    </g>\r\n    <g id=\"ytick_5\">\r\n     <g id=\"line2d_6\">\r\n      <g>\r\n       <use style=\"stroke:#000000;stroke-width:0.8;\" x=\"40.603125\" xlink:href=\"#m42e31d67fc\" y=\"137.725332\"/>\r\n      </g>\r\n     </g>\r\n     <g id=\"text_5\">\r\n      <!-- 12 -->\r\n      <defs>\r\n       <path d=\"M 19.1875 8.296875 \r\nL 53.609375 8.296875 \r\nL 53.609375 0 \r\nL 7.328125 0 \r\nL 7.328125 8.296875 \r\nQ 12.9375 14.109375 22.625 23.890625 \r\nQ 32.328125 33.6875 34.8125 36.53125 \r\nQ 39.546875 41.84375 41.421875 45.53125 \r\nQ 43.3125 49.21875 43.3125 52.78125 \r\nQ 43.3125 58.59375 39.234375 62.25 \r\nQ 35.15625 65.921875 28.609375 65.921875 \r\nQ 23.96875 65.921875 18.8125 64.3125 \r\nQ 13.671875 62.703125 7.8125 59.421875 \r\nL 7.8125 69.390625 \r\nQ 13.765625 71.78125 18.9375 73 \r\nQ 24.125 74.21875 28.421875 74.21875 \r\nQ 39.75 74.21875 46.484375 68.546875 \r\nQ 53.21875 62.890625 53.21875 53.421875 \r\nQ 53.21875 48.921875 51.53125 44.890625 \r\nQ 49.859375 40.875 45.40625 35.40625 \r\nQ 44.1875 33.984375 37.640625 27.21875 \r\nQ 31.109375 20.453125 19.1875 8.296875 \r\nz\r\n\" id=\"DejaVuSans-50\"/>\r\n      </defs>\r\n      <g transform=\"translate(20.878125 141.524551)scale(0.1 -0.1)\">\r\n       <use xlink:href=\"#DejaVuSans-49\"/>\r\n       <use x=\"63.623047\" xlink:href=\"#DejaVuSans-50\"/>\r\n      </g>\r\n     </g>\r\n    </g>\r\n    <g id=\"ytick_6\">\r\n     <g id=\"line2d_7\">\r\n      <g>\r\n       <use style=\"stroke:#000000;stroke-width:0.8;\" x=\"40.603125\" xlink:href=\"#m42e31d67fc\" y=\"106.043804\"/>\r\n      </g>\r\n     </g>\r\n     <g id=\"text_6\">\r\n      <!-- 14 -->\r\n      <g transform=\"translate(20.878125 109.843022)scale(0.1 -0.1)\">\r\n       <use xlink:href=\"#DejaVuSans-49\"/>\r\n       <use x=\"63.623047\" xlink:href=\"#DejaVuSans-52\"/>\r\n      </g>\r\n     </g>\r\n    </g>\r\n    <g id=\"ytick_7\">\r\n     <g id=\"line2d_8\">\r\n      <g>\r\n       <use style=\"stroke:#000000;stroke-width:0.8;\" x=\"40.603125\" xlink:href=\"#m42e31d67fc\" y=\"74.362275\"/>\r\n      </g>\r\n     </g>\r\n     <g id=\"text_7\">\r\n      <!-- 16 -->\r\n      <g transform=\"translate(20.878125 78.161494)scale(0.1 -0.1)\">\r\n       <use xlink:href=\"#DejaVuSans-49\"/>\r\n       <use x=\"63.623047\" xlink:href=\"#DejaVuSans-54\"/>\r\n      </g>\r\n     </g>\r\n    </g>\r\n    <g id=\"ytick_8\">\r\n     <g id=\"line2d_9\">\r\n      <g>\r\n       <use style=\"stroke:#000000;stroke-width:0.8;\" x=\"40.603125\" xlink:href=\"#m42e31d67fc\" y=\"42.680747\"/>\r\n      </g>\r\n     </g>\r\n     <g id=\"text_8\">\r\n      <!-- 18 -->\r\n      <g transform=\"translate(20.878125 46.479966)scale(0.1 -0.1)\">\r\n       <use xlink:href=\"#DejaVuSans-49\"/>\r\n       <use x=\"63.623047\" xlink:href=\"#DejaVuSans-56\"/>\r\n      </g>\r\n     </g>\r\n    </g>\r\n    <g id=\"ytick_9\">\r\n     <g id=\"line2d_10\">\r\n      <g>\r\n       <use style=\"stroke:#000000;stroke-width:0.8;\" x=\"40.603125\" xlink:href=\"#m42e31d67fc\" y=\"10.999219\"/>\r\n      </g>\r\n     </g>\r\n     <g id=\"text_9\">\r\n      <!-- 20 -->\r\n      <g transform=\"translate(20.878125 14.798438)scale(0.1 -0.1)\">\r\n       <use xlink:href=\"#DejaVuSans-50\"/>\r\n       <use x=\"63.623047\" xlink:href=\"#DejaVuSans-48\"/>\r\n      </g>\r\n     </g>\r\n    </g>\r\n    <g id=\"text_10\">\r\n     <!-- y -->\r\n     <defs>\r\n      <path d=\"M 32.171875 -5.078125 \r\nQ 28.375 -14.84375 24.75 -17.8125 \r\nQ 21.140625 -20.796875 15.09375 -20.796875 \r\nL 7.90625 -20.796875 \r\nL 7.90625 -13.28125 \r\nL 13.1875 -13.28125 \r\nQ 16.890625 -13.28125 18.9375 -11.515625 \r\nQ 21 -9.765625 23.484375 -3.21875 \r\nL 25.09375 0.875 \r\nL 2.984375 54.6875 \r\nL 12.5 54.6875 \r\nL 29.59375 11.921875 \r\nL 46.6875 54.6875 \r\nL 56.203125 54.6875 \r\nz\r\n\" id=\"DejaVuSans-121\"/>\r\n     </defs>\r\n     <g transform=\"translate(14.798437 148.93441)rotate(-90)scale(0.1 -0.1)\">\r\n      <use xlink:href=\"#DejaVuSans-121\"/>\r\n     </g>\r\n    </g>\r\n   </g>\r\n   <g id=\"line2d_11\">\r\n    <path clip-path=\"url(#p653855a97c)\" d=\"M 152.203125 253.046095 \r\nL 152.203125 269.52049 \r\n\" style=\"fill:none;stroke:#3f3f3f;stroke-linecap:square;stroke-width:1.5;\"/>\r\n   </g>\r\n   <g id=\"line2d_12\">\r\n    <path clip-path=\"url(#p653855a97c)\" d=\"M 152.203125 224.215904 \r\nL 152.203125 181.129026 \r\n\" style=\"fill:none;stroke:#3f3f3f;stroke-linecap:square;stroke-width:1.5;\"/>\r\n   </g>\r\n   <g id=\"line2d_13\">\r\n    <path clip-path=\"url(#p653855a97c)\" d=\"M 107.563125 269.52049 \r\nL 196.843125 269.52049 \r\n\" style=\"fill:none;stroke:#3f3f3f;stroke-linecap:square;stroke-width:1.5;\"/>\r\n   </g>\r\n   <g id=\"line2d_14\">\r\n    <path clip-path=\"url(#p653855a97c)\" d=\"M 107.563125 181.129026 \r\nL 196.843125 181.129026 \r\n\" style=\"fill:none;stroke:#3f3f3f;stroke-linecap:square;stroke-width:1.5;\"/>\r\n   </g>\r\n   <g id=\"line2d_15\">\r\n    <defs>\r\n     <path d=\"M 0 3.535534 \r\nL 2.12132 0 \r\nL 0 -3.535534 \r\nL -2.12132 0 \r\nz\r\n\" id=\"m0487c42cdc\" style=\"stroke:#3f3f3f;stroke-linejoin:miter;\"/>\r\n    </defs>\r\n    <g clip-path=\"url(#p653855a97c)\">\r\n     <use style=\"fill:#3f3f3f;stroke:#3f3f3f;stroke-linejoin:miter;\" x=\"152.203125\" xlink:href=\"#m0487c42cdc\" y=\"179.228134\"/>\r\n     <use style=\"fill:#3f3f3f;stroke:#3f3f3f;stroke-linejoin:miter;\" x=\"152.203125\" xlink:href=\"#m0487c42cdc\" y=\"180.336988\"/>\r\n     <use style=\"fill:#3f3f3f;stroke:#3f3f3f;stroke-linejoin:miter;\" x=\"152.203125\" xlink:href=\"#m0487c42cdc\" y=\"177.644058\"/>\r\n     <use style=\"fill:#3f3f3f;stroke:#3f3f3f;stroke-linejoin:miter;\" x=\"152.203125\" xlink:href=\"#m0487c42cdc\" y=\"22.429581\"/>\r\n     <use style=\"fill:#3f3f3f;stroke:#3f3f3f;stroke-linejoin:miter;\" x=\"152.203125\" xlink:href=\"#m0487c42cdc\" y=\"178.911319\"/>\r\n     <use style=\"fill:#3f3f3f;stroke:#3f3f3f;stroke-linejoin:miter;\" x=\"152.203125\" xlink:href=\"#m0487c42cdc\" y=\"178.594504\"/>\r\n     <use style=\"fill:#3f3f3f;stroke:#3f3f3f;stroke-linejoin:miter;\" x=\"152.203125\" xlink:href=\"#m0487c42cdc\" y=\"175.901574\"/>\r\n     <use style=\"fill:#3f3f3f;stroke:#3f3f3f;stroke-linejoin:miter;\" x=\"152.203125\" xlink:href=\"#m0487c42cdc\" y=\"179.386542\"/>\r\n     <use style=\"fill:#3f3f3f;stroke:#3f3f3f;stroke-linejoin:miter;\" x=\"152.203125\" xlink:href=\"#m0487c42cdc\" y=\"167.988982\"/>\r\n     <use style=\"fill:#3f3f3f;stroke:#3f3f3f;stroke-linejoin:miter;\" x=\"152.203125\" xlink:href=\"#m0487c42cdc\" y=\"170.357306\"/>\r\n     <use style=\"fill:#3f3f3f;stroke:#3f3f3f;stroke-linejoin:miter;\" x=\"152.203125\" xlink:href=\"#m0487c42cdc\" y=\"179.861765\"/>\r\n     <use style=\"fill:#3f3f3f;stroke:#3f3f3f;stroke-linejoin:miter;\" x=\"152.203125\" xlink:href=\"#m0487c42cdc\" y=\"170.357306\"/>\r\n     <use style=\"fill:#3f3f3f;stroke:#3f3f3f;stroke-linejoin:miter;\" x=\"152.203125\" xlink:href=\"#m0487c42cdc\" y=\"172.416605\"/>\r\n     <use style=\"fill:#3f3f3f;stroke:#3f3f3f;stroke-linejoin:miter;\" x=\"152.203125\" xlink:href=\"#m0487c42cdc\" y=\"171.782975\"/>\r\n     <use style=\"fill:#3f3f3f;stroke:#3f3f3f;stroke-linejoin:miter;\" x=\"152.203125\" xlink:href=\"#m0487c42cdc\" y=\"160.330465\"/>\r\n     <use style=\"fill:#3f3f3f;stroke:#3f3f3f;stroke-linejoin:miter;\" x=\"152.203125\" xlink:href=\"#m0487c42cdc\" y=\"180.336988\"/>\r\n     <use style=\"fill:#3f3f3f;stroke:#3f3f3f;stroke-linejoin:miter;\" x=\"152.203125\" xlink:href=\"#m0487c42cdc\" y=\"166.309485\"/>\r\n     <use style=\"fill:#3f3f3f;stroke:#3f3f3f;stroke-linejoin:miter;\" x=\"152.203125\" xlink:href=\"#m0487c42cdc\" y=\"177.960873\"/>\r\n     <use style=\"fill:#3f3f3f;stroke:#3f3f3f;stroke-linejoin:miter;\" x=\"152.203125\" xlink:href=\"#m0487c42cdc\" y=\"179.228134\"/>\r\n     <use style=\"fill:#3f3f3f;stroke:#3f3f3f;stroke-linejoin:miter;\" x=\"152.203125\" xlink:href=\"#m0487c42cdc\" y=\"175.267943\"/>\r\n     <use style=\"fill:#3f3f3f;stroke:#3f3f3f;stroke-linejoin:miter;\" x=\"152.203125\" xlink:href=\"#m0487c42cdc\" y=\"180.17858\"/>\r\n     <use style=\"fill:#3f3f3f;stroke:#3f3f3f;stroke-linejoin:miter;\" x=\"152.203125\" xlink:href=\"#m0487c42cdc\" y=\"146.91964\"/>\r\n    </g>\r\n   </g>\r\n   <g id=\"line2d_16\">\r\n    <path clip-path=\"url(#p653855a97c)\" d=\"M 62.923125 237.363739 \r\nL 241.483125 237.363739 \r\n\" style=\"fill:none;stroke:#3f3f3f;stroke-linecap:square;stroke-width:1.5;\"/>\r\n   </g>\r\n   <g id=\"patch_4\">\r\n    <path d=\"M 40.603125 281.875035 \r\nL 40.603125 10.075035 \r\n\" style=\"fill:none;stroke:#000000;stroke-linecap:square;stroke-linejoin:miter;stroke-width:0.8;\"/>\r\n   </g>\r\n   <g id=\"patch_5\">\r\n    <path d=\"M 263.803125 281.875035 \r\nL 263.803125 10.075035 \r\n\" style=\"fill:none;stroke:#000000;stroke-linecap:square;stroke-linejoin:miter;stroke-width:0.8;\"/>\r\n   </g>\r\n   <g id=\"patch_6\">\r\n    <path d=\"M 40.603125 281.875035 \r\nL 263.803125 281.875035 \r\n\" style=\"fill:none;stroke:#000000;stroke-linecap:square;stroke-linejoin:miter;stroke-width:0.8;\"/>\r\n   </g>\r\n   <g id=\"patch_7\">\r\n    <path d=\"M 40.603125 10.075035 \r\nL 263.803125 10.075035 \r\n\" style=\"fill:none;stroke:#000000;stroke-linecap:square;stroke-linejoin:miter;stroke-width:0.8;\"/>\r\n   </g>\r\n  </g>\r\n  <g id=\"axes_2\">\r\n   <g id=\"patch_8\">\r\n    <path d=\"M 375.403125 281.875035 \r\nL 598.603125 281.875035 \r\nL 598.603125 10.075035 \r\nL 375.403125 10.075035 \r\nz\r\n\" style=\"fill:#ffffff;\"/>\r\n   </g>\r\n   <g id=\"patch_9\">\r\n    <path clip-path=\"url(#p26e196fee1)\" d=\"M 397.723125 204.477961 \r\nL 576.283125 204.477961 \r\nL 576.283125 164.533365 \r\nL 397.723125 164.533365 \r\nL 397.723125 204.477961 \r\nz\r\n\" style=\"fill:#3274a1;stroke:#3f3f3f;stroke-linejoin:miter;stroke-width:1.5;\"/>\r\n   </g>\r\n   <g id=\"matplotlib.axis_3\">\r\n    <g id=\"xtick_2\">\r\n     <g id=\"line2d_17\">\r\n      <g>\r\n       <use style=\"stroke:#000000;stroke-width:0.8;\" x=\"487.003125\" xlink:href=\"#m2138a45a9c\" y=\"281.875035\"/>\r\n      </g>\r\n     </g>\r\n    </g>\r\n   </g>\r\n   <g id=\"matplotlib.axis_4\">\r\n    <g id=\"ytick_10\">\r\n     <g id=\"line2d_18\">\r\n      <g>\r\n       <use style=\"stroke:#000000;stroke-width:0.8;\" x=\"375.403125\" xlink:href=\"#m42e31d67fc\" y=\"271.994934\"/>\r\n      </g>\r\n     </g>\r\n     <g id=\"text_11\">\r\n      <!-- 1 -->\r\n      <g transform=\"translate(362.040625 275.794153)scale(0.1 -0.1)\">\r\n       <use xlink:href=\"#DejaVuSans-49\"/>\r\n      </g>\r\n     </g>\r\n    </g>\r\n    <g id=\"ytick_11\">\r\n     <g id=\"line2d_19\">\r\n      <g>\r\n       <use style=\"stroke:#000000;stroke-width:0.8;\" x=\"375.403125\" xlink:href=\"#m42e31d67fc\" y=\"236.645734\"/>\r\n      </g>\r\n     </g>\r\n     <g id=\"text_12\">\r\n      <!-- 2 -->\r\n      <g transform=\"translate(362.040625 240.444952)scale(0.1 -0.1)\">\r\n       <use xlink:href=\"#DejaVuSans-50\"/>\r\n      </g>\r\n     </g>\r\n    </g>\r\n    <g id=\"ytick_12\">\r\n     <g id=\"line2d_20\">\r\n      <g>\r\n       <use style=\"stroke:#000000;stroke-width:0.8;\" x=\"375.403125\" xlink:href=\"#m42e31d67fc\" y=\"201.296533\"/>\r\n      </g>\r\n     </g>\r\n     <g id=\"text_13\">\r\n      <!-- 3 -->\r\n      <defs>\r\n       <path d=\"M 40.578125 39.3125 \r\nQ 47.65625 37.796875 51.625 33 \r\nQ 55.609375 28.21875 55.609375 21.1875 \r\nQ 55.609375 10.40625 48.1875 4.484375 \r\nQ 40.765625 -1.421875 27.09375 -1.421875 \r\nQ 22.515625 -1.421875 17.65625 -0.515625 \r\nQ 12.796875 0.390625 7.625 2.203125 \r\nL 7.625 11.71875 \r\nQ 11.71875 9.328125 16.59375 8.109375 \r\nQ 21.484375 6.890625 26.8125 6.890625 \r\nQ 36.078125 6.890625 40.9375 10.546875 \r\nQ 45.796875 14.203125 45.796875 21.1875 \r\nQ 45.796875 27.640625 41.28125 31.265625 \r\nQ 36.765625 34.90625 28.71875 34.90625 \r\nL 20.21875 34.90625 \r\nL 20.21875 43.015625 \r\nL 29.109375 43.015625 \r\nQ 36.375 43.015625 40.234375 45.921875 \r\nQ 44.09375 48.828125 44.09375 54.296875 \r\nQ 44.09375 59.90625 40.109375 62.90625 \r\nQ 36.140625 65.921875 28.71875 65.921875 \r\nQ 24.65625 65.921875 20.015625 65.03125 \r\nQ 15.375 64.15625 9.8125 62.3125 \r\nL 9.8125 71.09375 \r\nQ 15.4375 72.65625 20.34375 73.4375 \r\nQ 25.25 74.21875 29.59375 74.21875 \r\nQ 40.828125 74.21875 47.359375 69.109375 \r\nQ 53.90625 64.015625 53.90625 55.328125 \r\nQ 53.90625 49.265625 50.4375 45.09375 \r\nQ 46.96875 40.921875 40.578125 39.3125 \r\nz\r\n\" id=\"DejaVuSans-51\"/>\r\n      </defs>\r\n      <g transform=\"translate(362.040625 205.095752)scale(0.1 -0.1)\">\r\n       <use xlink:href=\"#DejaVuSans-51\"/>\r\n      </g>\r\n     </g>\r\n    </g>\r\n    <g id=\"ytick_13\">\r\n     <g id=\"line2d_21\">\r\n      <g>\r\n       <use style=\"stroke:#000000;stroke-width:0.8;\" x=\"375.403125\" xlink:href=\"#m42e31d67fc\" y=\"165.947333\"/>\r\n      </g>\r\n     </g>\r\n     <g id=\"text_14\">\r\n      <!-- 4 -->\r\n      <g transform=\"translate(362.040625 169.746552)scale(0.1 -0.1)\">\r\n       <use xlink:href=\"#DejaVuSans-52\"/>\r\n      </g>\r\n     </g>\r\n    </g>\r\n    <g id=\"ytick_14\">\r\n     <g id=\"line2d_22\">\r\n      <g>\r\n       <use style=\"stroke:#000000;stroke-width:0.8;\" x=\"375.403125\" xlink:href=\"#m42e31d67fc\" y=\"130.598133\"/>\r\n      </g>\r\n     </g>\r\n     <g id=\"text_15\">\r\n      <!-- 5 -->\r\n      <defs>\r\n       <path d=\"M 10.796875 72.90625 \r\nL 49.515625 72.90625 \r\nL 49.515625 64.59375 \r\nL 19.828125 64.59375 \r\nL 19.828125 46.734375 \r\nQ 21.96875 47.46875 24.109375 47.828125 \r\nQ 26.265625 48.1875 28.421875 48.1875 \r\nQ 40.625 48.1875 47.75 41.5 \r\nQ 54.890625 34.8125 54.890625 23.390625 \r\nQ 54.890625 11.625 47.5625 5.09375 \r\nQ 40.234375 -1.421875 26.90625 -1.421875 \r\nQ 22.3125 -1.421875 17.546875 -0.640625 \r\nQ 12.796875 0.140625 7.71875 1.703125 \r\nL 7.71875 11.625 \r\nQ 12.109375 9.234375 16.796875 8.0625 \r\nQ 21.484375 6.890625 26.703125 6.890625 \r\nQ 35.15625 6.890625 40.078125 11.328125 \r\nQ 45.015625 15.765625 45.015625 23.390625 \r\nQ 45.015625 31 40.078125 35.4375 \r\nQ 35.15625 39.890625 26.703125 39.890625 \r\nQ 22.75 39.890625 18.8125 39.015625 \r\nQ 14.890625 38.140625 10.796875 36.28125 \r\nz\r\n\" id=\"DejaVuSans-53\"/>\r\n      </defs>\r\n      <g transform=\"translate(362.040625 134.397352)scale(0.1 -0.1)\">\r\n       <use xlink:href=\"#DejaVuSans-53\"/>\r\n      </g>\r\n     </g>\r\n    </g>\r\n    <g id=\"ytick_15\">\r\n     <g id=\"line2d_23\">\r\n      <g>\r\n       <use style=\"stroke:#000000;stroke-width:0.8;\" x=\"375.403125\" xlink:href=\"#m42e31d67fc\" y=\"95.248933\"/>\r\n      </g>\r\n     </g>\r\n     <g id=\"text_16\">\r\n      <!-- 6 -->\r\n      <g transform=\"translate(362.040625 99.048152)scale(0.1 -0.1)\">\r\n       <use xlink:href=\"#DejaVuSans-54\"/>\r\n      </g>\r\n     </g>\r\n    </g>\r\n    <g id=\"ytick_16\">\r\n     <g id=\"line2d_24\">\r\n      <g>\r\n       <use style=\"stroke:#000000;stroke-width:0.8;\" x=\"375.403125\" xlink:href=\"#m42e31d67fc\" y=\"59.899733\"/>\r\n      </g>\r\n     </g>\r\n     <g id=\"text_17\">\r\n      <!-- 7 -->\r\n      <defs>\r\n       <path d=\"M 8.203125 72.90625 \r\nL 55.078125 72.90625 \r\nL 55.078125 68.703125 \r\nL 28.609375 0 \r\nL 18.3125 0 \r\nL 43.21875 64.59375 \r\nL 8.203125 64.59375 \r\nz\r\n\" id=\"DejaVuSans-55\"/>\r\n      </defs>\r\n      <g transform=\"translate(362.040625 63.698952)scale(0.1 -0.1)\">\r\n       <use xlink:href=\"#DejaVuSans-55\"/>\r\n      </g>\r\n     </g>\r\n    </g>\r\n    <g id=\"ytick_17\">\r\n     <g id=\"line2d_25\">\r\n      <g>\r\n       <use style=\"stroke:#000000;stroke-width:0.8;\" x=\"375.403125\" xlink:href=\"#m42e31d67fc\" y=\"24.550533\"/>\r\n      </g>\r\n     </g>\r\n     <g id=\"text_18\">\r\n      <!-- 8 -->\r\n      <g transform=\"translate(362.040625 28.349751)scale(0.1 -0.1)\">\r\n       <use xlink:href=\"#DejaVuSans-56\"/>\r\n      </g>\r\n     </g>\r\n    </g>\r\n    <g id=\"text_19\">\r\n     <!-- z -->\r\n     <defs>\r\n      <path d=\"M 5.515625 54.6875 \r\nL 48.1875 54.6875 \r\nL 48.1875 46.484375 \r\nL 14.40625 7.171875 \r\nL 48.1875 7.171875 \r\nL 48.1875 0 \r\nL 4.296875 0 \r\nL 4.296875 8.203125 \r\nL 38.09375 47.515625 \r\nL 5.515625 47.515625 \r\nz\r\n\" id=\"DejaVuSans-122\"/>\r\n     </defs>\r\n     <g transform=\"translate(355.960937 148.599254)rotate(-90)scale(0.1 -0.1)\">\r\n      <use xlink:href=\"#DejaVuSans-122\"/>\r\n     </g>\r\n    </g>\r\n   </g>\r\n   <g id=\"line2d_26\">\r\n    <path clip-path=\"url(#p26e196fee1)\" d=\"M 487.003125 204.477961 \r\nL 487.003125 257.501762 \r\n\" style=\"fill:none;stroke:#3f3f3f;stroke-linecap:square;stroke-width:1.5;\"/>\r\n   </g>\r\n   <g id=\"line2d_27\">\r\n    <path clip-path=\"url(#p26e196fee1)\" d=\"M 487.003125 164.533365 \r\nL 487.003125 104.793217 \r\n\" style=\"fill:none;stroke:#3f3f3f;stroke-linecap:square;stroke-width:1.5;\"/>\r\n   </g>\r\n   <g id=\"line2d_28\">\r\n    <path clip-path=\"url(#p26e196fee1)\" d=\"M 442.363125 257.501762 \r\nL 531.643125 257.501762 \r\n\" style=\"fill:none;stroke:#3f3f3f;stroke-linecap:square;stroke-width:1.5;\"/>\r\n   </g>\r\n   <g id=\"line2d_29\">\r\n    <path clip-path=\"url(#p26e196fee1)\" d=\"M 442.363125 104.793217 \r\nL 531.643125 104.793217 \r\n\" style=\"fill:none;stroke:#3f3f3f;stroke-linecap:square;stroke-width:1.5;\"/>\r\n   </g>\r\n   <g id=\"line2d_30\">\r\n    <g clip-path=\"url(#p26e196fee1)\">\r\n     <use style=\"fill:#3f3f3f;stroke:#3f3f3f;stroke-linejoin:miter;\" x=\"487.003125\" xlink:href=\"#m0487c42cdc\" y=\"269.52049\"/>\r\n     <use style=\"fill:#3f3f3f;stroke:#3f3f3f;stroke-linejoin:miter;\" x=\"487.003125\" xlink:href=\"#m0487c42cdc\" y=\"103.379249\"/>\r\n     <use style=\"fill:#3f3f3f;stroke:#3f3f3f;stroke-linejoin:miter;\" x=\"487.003125\" xlink:href=\"#m0487c42cdc\" y=\"103.732741\"/>\r\n     <use style=\"fill:#3f3f3f;stroke:#3f3f3f;stroke-linejoin:miter;\" x=\"487.003125\" xlink:href=\"#m0487c42cdc\" y=\"96.309409\"/>\r\n     <use style=\"fill:#3f3f3f;stroke:#3f3f3f;stroke-linejoin:miter;\" x=\"487.003125\" xlink:href=\"#m0487c42cdc\" y=\"95.955917\"/>\r\n     <use style=\"fill:#3f3f3f;stroke:#3f3f3f;stroke-linejoin:miter;\" x=\"487.003125\" xlink:href=\"#m0487c42cdc\" y=\"98.430361\"/>\r\n     <use style=\"fill:#3f3f3f;stroke:#3f3f3f;stroke-linejoin:miter;\" x=\"487.003125\" xlink:href=\"#m0487c42cdc\" y=\"102.672265\"/>\r\n     <use style=\"fill:#3f3f3f;stroke:#3f3f3f;stroke-linejoin:miter;\" x=\"487.003125\" xlink:href=\"#m0487c42cdc\" y=\"81.816237\"/>\r\n     <use style=\"fill:#3f3f3f;stroke:#3f3f3f;stroke-linejoin:miter;\" x=\"487.003125\" xlink:href=\"#m0487c42cdc\" y=\"22.429581\"/>\r\n     <use style=\"fill:#3f3f3f;stroke:#3f3f3f;stroke-linejoin:miter;\" x=\"487.003125\" xlink:href=\"#m0487c42cdc\" y=\"100.551313\"/>\r\n     <use style=\"fill:#3f3f3f;stroke:#3f3f3f;stroke-linejoin:miter;\" x=\"487.003125\" xlink:href=\"#m0487c42cdc\" y=\"98.076869\"/>\r\n     <use style=\"fill:#3f3f3f;stroke:#3f3f3f;stroke-linejoin:miter;\" x=\"487.003125\" xlink:href=\"#m0487c42cdc\" y=\"94.188457\"/>\r\n     <use style=\"fill:#3f3f3f;stroke:#3f3f3f;stroke-linejoin:miter;\" x=\"487.003125\" xlink:href=\"#m0487c42cdc\" y=\"89.239569\"/>\r\n     <use style=\"fill:#3f3f3f;stroke:#3f3f3f;stroke-linejoin:miter;\" x=\"487.003125\" xlink:href=\"#m0487c42cdc\" y=\"86.765125\"/>\r\n     <use style=\"fill:#3f3f3f;stroke:#3f3f3f;stroke-linejoin:miter;\" x=\"487.003125\" xlink:href=\"#m0487c42cdc\" y=\"104.086233\"/>\r\n     <use style=\"fill:#3f3f3f;stroke:#3f3f3f;stroke-linejoin:miter;\" x=\"487.003125\" xlink:href=\"#m0487c42cdc\" y=\"89.593061\"/>\r\n     <use style=\"fill:#3f3f3f;stroke:#3f3f3f;stroke-linejoin:miter;\" x=\"487.003125\" xlink:href=\"#m0487c42cdc\" y=\"85.704649\"/>\r\n     <use style=\"fill:#3f3f3f;stroke:#3f3f3f;stroke-linejoin:miter;\" x=\"487.003125\" xlink:href=\"#m0487c42cdc\" y=\"84.290681\"/>\r\n     <use style=\"fill:#3f3f3f;stroke:#3f3f3f;stroke-linejoin:miter;\" x=\"487.003125\" xlink:href=\"#m0487c42cdc\" y=\"90.653537\"/>\r\n     <use style=\"fill:#3f3f3f;stroke:#3f3f3f;stroke-linejoin:miter;\" x=\"487.003125\" xlink:href=\"#m0487c42cdc\" y=\"100.197821\"/>\r\n     <use style=\"fill:#3f3f3f;stroke:#3f3f3f;stroke-linejoin:miter;\" x=\"487.003125\" xlink:href=\"#m0487c42cdc\" y=\"80.048777\"/>\r\n     <use style=\"fill:#3f3f3f;stroke:#3f3f3f;stroke-linejoin:miter;\" x=\"487.003125\" xlink:href=\"#m0487c42cdc\" y=\"60.606717\"/>\r\n     <use style=\"fill:#3f3f3f;stroke:#3f3f3f;stroke-linejoin:miter;\" x=\"487.003125\" xlink:href=\"#m0487c42cdc\" y=\"98.783853\"/>\r\n     <use style=\"fill:#3f3f3f;stroke:#3f3f3f;stroke-linejoin:miter;\" x=\"487.003125\" xlink:href=\"#m0487c42cdc\" y=\"98.783853\"/>\r\n     <use style=\"fill:#3f3f3f;stroke:#3f3f3f;stroke-linejoin:miter;\" x=\"487.003125\" xlink:href=\"#m0487c42cdc\" y=\"103.379249\"/>\r\n     <use style=\"fill:#3f3f3f;stroke:#3f3f3f;stroke-linejoin:miter;\" x=\"487.003125\" xlink:href=\"#m0487c42cdc\" y=\"103.379249\"/>\r\n     <use style=\"fill:#3f3f3f;stroke:#3f3f3f;stroke-linejoin:miter;\" x=\"487.003125\" xlink:href=\"#m0487c42cdc\" y=\"69.797509\"/>\r\n     <use style=\"fill:#3f3f3f;stroke:#3f3f3f;stroke-linejoin:miter;\" x=\"487.003125\" xlink:href=\"#m0487c42cdc\" y=\"94.188457\"/>\r\n    </g>\r\n   </g>\r\n   <g id=\"line2d_31\">\r\n    <path clip-path=\"url(#p26e196fee1)\" d=\"M 397.723125 182.561457 \r\nL 576.283125 182.561457 \r\n\" style=\"fill:none;stroke:#3f3f3f;stroke-linecap:square;stroke-width:1.5;\"/>\r\n   </g>\r\n   <g id=\"patch_10\">\r\n    <path d=\"M 375.403125 281.875035 \r\nL 375.403125 10.075035 \r\n\" style=\"fill:none;stroke:#000000;stroke-linecap:square;stroke-linejoin:miter;stroke-width:0.8;\"/>\r\n   </g>\r\n   <g id=\"patch_11\">\r\n    <path d=\"M 598.603125 281.875035 \r\nL 598.603125 10.075035 \r\n\" style=\"fill:none;stroke:#000000;stroke-linecap:square;stroke-linejoin:miter;stroke-width:0.8;\"/>\r\n   </g>\r\n   <g id=\"patch_12\">\r\n    <path d=\"M 375.403125 281.875035 \r\nL 598.603125 281.875035 \r\n\" style=\"fill:none;stroke:#000000;stroke-linecap:square;stroke-linejoin:miter;stroke-width:0.8;\"/>\r\n   </g>\r\n   <g id=\"patch_13\">\r\n    <path d=\"M 375.403125 10.075035 \r\nL 598.603125 10.075035 \r\n\" style=\"fill:none;stroke:#000000;stroke-linecap:square;stroke-linejoin:miter;stroke-width:0.8;\"/>\r\n   </g>\r\n  </g>\r\n </g>\r\n <defs>\r\n  <clipPath id=\"p653855a97c\">\r\n   <rect height=\"271.8\" width=\"223.2\" x=\"40.603125\" y=\"10.075035\"/>\r\n  </clipPath>\r\n  <clipPath id=\"p26e196fee1\">\r\n   <rect height=\"271.8\" width=\"223.2\" x=\"375.403125\" y=\"10.075035\"/>\r\n  </clipPath>\r\n </defs>\r\n</svg>\r\n",
      "image/png": "[encoded data removed]"
     },
     "metadata": {
      "needs_background": "light"
     }
    }
   ],
   "source": [
    "fig, ax = plt.subplots(1,2, figsize=(10, 5))\n",
    "sns.boxplot(y=diamonds.y, ax=ax[0])\n",
    "sns.boxplot(y=diamonds.z, ax=ax[1])\n",
    "plt.subplots_adjust(wspace=0.5)"
   ]
  },
  {
   "source": [
    "### We still have an outlier in y = 19"
   ],
   "cell_type": "markdown",
   "metadata": {}
  },
  {
   "cell_type": "code",
   "execution_count": 88,
   "metadata": {},
   "outputs": [],
   "source": [
    "diamonds.to_csv('diamonds_clean.csv') "
   ]
  },
  {
   "cell_type": "code",
   "execution_count": 65,
   "metadata": {},
   "outputs": [],
   "source": [
    "\"\"\"Export data cleaned to make a dashboard in Tableau\"\"\"\n",
    "diamonds.to_excel('diamonds_cleaned.xlsx')"
   ]
  }
 ],
 "metadata": {
  "kernelspec": {
   "display_name": "Python 3",
   "language": "python",
   "name": "python3"
  },
  "language_info": {
   "codemirror_mode": {
    "name": "ipython",
    "version": 3
   },
   "file_extension": ".py",
   "mimetype": "text/x-python",
   "name": "python",
   "nbconvert_exporter": "python",
   "pygments_lexer": "ipython3",
   "version": "3.8.3-final"
  }
 },
 "nbformat": 4,
 "nbformat_minor": 2
}