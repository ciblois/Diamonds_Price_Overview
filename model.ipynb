{
 "metadata": {
  "language_info": {
   "codemirror_mode": {
    "name": "ipython",
    "version": 3
   },
   "file_extension": ".py",
   "mimetype": "text/x-python",
   "name": "python",
   "nbconvert_exporter": "python",
   "pygments_lexer": "ipython3",
   "version": "3.8.3-final"
  },
  "orig_nbformat": 2,
  "kernelspec": {
   "name": "python3",
   "display_name": "Python 3"
  }
 },
 "nbformat": 4,
 "nbformat_minor": 2,
 "cells": [
  {
   "cell_type": "code",
   "execution_count": 1,
   "metadata": {},
   "outputs": [],
   "source": [
    "import pandas as pd\n",
    "import numpy as np\n",
    "import matplotlib.pyplot as plt\n",
    "import seaborn \n",
    "import pickle"
   ]
  },
  {
   "cell_type": "code",
   "execution_count": 2,
   "metadata": {},
   "outputs": [
    {
     "output_type": "execute_result",
     "data": {
      "text/plain": [
       "   carat      cut  color  clarity  depth  table  price     x     y     z\n",
       "0   0.23    Ideal      5        1   61.5   55.0    326  3.95  3.98  2.43\n",
       "1   0.21  Premium      5        2   59.8   61.0    326  3.89  3.84  2.31\n",
       "2   0.23     Good      5        4   56.9   65.0    327  4.05  4.07  2.31\n",
       "3   0.29  Premium      1        3   62.4   58.0    334  4.20  4.23  2.63\n",
       "4   0.31     Good      0        1   63.3   58.0    335  4.34  4.35  2.75"
      ],
      "text/html": "<div>\n<style scoped>\n    .dataframe tbody tr th:only-of-type {\n        vertical-align: middle;\n    }\n\n    .dataframe tbody tr th {\n        vertical-align: top;\n    }\n\n    .dataframe thead th {\n        text-align: right;\n    }\n</style>\n<table border=\"1\" class=\"dataframe\">\n  <thead>\n    <tr style=\"text-align: right;\">\n      <th></th>\n      <th>carat</th>\n      <th>cut</th>\n      <th>color</th>\n      <th>clarity</th>\n      <th>depth</th>\n      <th>table</th>\n      <th>price</th>\n      <th>x</th>\n      <th>y</th>\n      <th>z</th>\n    </tr>\n  </thead>\n  <tbody>\n    <tr>\n      <th>0</th>\n      <td>0.23</td>\n      <td>Ideal</td>\n      <td>5</td>\n      <td>1</td>\n      <td>61.5</td>\n      <td>55.0</td>\n      <td>326</td>\n      <td>3.95</td>\n      <td>3.98</td>\n      <td>2.43</td>\n    </tr>\n    <tr>\n      <th>1</th>\n      <td>0.21</td>\n      <td>Premium</td>\n      <td>5</td>\n      <td>2</td>\n      <td>59.8</td>\n      <td>61.0</td>\n      <td>326</td>\n      <td>3.89</td>\n      <td>3.84</td>\n      <td>2.31</td>\n    </tr>\n    <tr>\n      <th>2</th>\n      <td>0.23</td>\n      <td>Good</td>\n      <td>5</td>\n      <td>4</td>\n      <td>56.9</td>\n      <td>65.0</td>\n      <td>327</td>\n      <td>4.05</td>\n      <td>4.07</td>\n      <td>2.31</td>\n    </tr>\n    <tr>\n      <th>3</th>\n      <td>0.29</td>\n      <td>Premium</td>\n      <td>1</td>\n      <td>3</td>\n      <td>62.4</td>\n      <td>58.0</td>\n      <td>334</td>\n      <td>4.20</td>\n      <td>4.23</td>\n      <td>2.63</td>\n    </tr>\n    <tr>\n      <th>4</th>\n      <td>0.31</td>\n      <td>Good</td>\n      <td>0</td>\n      <td>1</td>\n      <td>63.3</td>\n      <td>58.0</td>\n      <td>335</td>\n      <td>4.34</td>\n      <td>4.35</td>\n      <td>2.75</td>\n    </tr>\n  </tbody>\n</table>\n</div>"
     },
     "metadata": {},
     "execution_count": 2
    }
   ],
   "source": [
    "diamonds = pd.read_csv('C:\\cygwin\\home\\Cinthya\\Ironhack_bootcamp\\Diamonds_Price_Overview\\diamonds_clean.csv')\n",
    "diamonds.drop('Unnamed: 0', axis=1,inplace=True)\n",
    "diamonds.drop('Unnamed: 0.1', axis=1,inplace=True)\n",
    "diamonds.head()"
   ]
  },
  {
   "cell_type": "code",
   "execution_count": 3,
   "metadata": {},
   "outputs": [
    {
     "output_type": "execute_result",
     "data": {
      "text/plain": [
       "   carat  cut  color  clarity  depth  table  price     x     y     z\n",
       "0   0.23    4      5        1   61.5   55.0    326  3.95  3.98  2.43\n",
       "1   0.21    3      5        2   59.8   61.0    326  3.89  3.84  2.31\n",
       "2   0.23    1      5        4   56.9   65.0    327  4.05  4.07  2.31\n",
       "3   0.29    3      1        3   62.4   58.0    334  4.20  4.23  2.63\n",
       "4   0.31    1      0        1   63.3   58.0    335  4.34  4.35  2.75"
      ],
      "text/html": "<div>\n<style scoped>\n    .dataframe tbody tr th:only-of-type {\n        vertical-align: middle;\n    }\n\n    .dataframe tbody tr th {\n        vertical-align: top;\n    }\n\n    .dataframe thead th {\n        text-align: right;\n    }\n</style>\n<table border=\"1\" class=\"dataframe\">\n  <thead>\n    <tr style=\"text-align: right;\">\n      <th></th>\n      <th>carat</th>\n      <th>cut</th>\n      <th>color</th>\n      <th>clarity</th>\n      <th>depth</th>\n      <th>table</th>\n      <th>price</th>\n      <th>x</th>\n      <th>y</th>\n      <th>z</th>\n    </tr>\n  </thead>\n  <tbody>\n    <tr>\n      <th>0</th>\n      <td>0.23</td>\n      <td>4</td>\n      <td>5</td>\n      <td>1</td>\n      <td>61.5</td>\n      <td>55.0</td>\n      <td>326</td>\n      <td>3.95</td>\n      <td>3.98</td>\n      <td>2.43</td>\n    </tr>\n    <tr>\n      <th>1</th>\n      <td>0.21</td>\n      <td>3</td>\n      <td>5</td>\n      <td>2</td>\n      <td>59.8</td>\n      <td>61.0</td>\n      <td>326</td>\n      <td>3.89</td>\n      <td>3.84</td>\n      <td>2.31</td>\n    </tr>\n    <tr>\n      <th>2</th>\n      <td>0.23</td>\n      <td>1</td>\n      <td>5</td>\n      <td>4</td>\n      <td>56.9</td>\n      <td>65.0</td>\n      <td>327</td>\n      <td>4.05</td>\n      <td>4.07</td>\n      <td>2.31</td>\n    </tr>\n    <tr>\n      <th>3</th>\n      <td>0.29</td>\n      <td>3</td>\n      <td>1</td>\n      <td>3</td>\n      <td>62.4</td>\n      <td>58.0</td>\n      <td>334</td>\n      <td>4.20</td>\n      <td>4.23</td>\n      <td>2.63</td>\n    </tr>\n    <tr>\n      <th>4</th>\n      <td>0.31</td>\n      <td>1</td>\n      <td>0</td>\n      <td>1</td>\n      <td>63.3</td>\n      <td>58.0</td>\n      <td>335</td>\n      <td>4.34</td>\n      <td>4.35</td>\n      <td>2.75</td>\n    </tr>\n  </tbody>\n</table>\n</div>"
     },
     "metadata": {},
     "execution_count": 3
    }
   ],
   "source": [
    "def cut_mod(x):\n",
    "    cut_types = ['Fair', 'Good', 'Very Good', 'Premium', 'Ideal']\n",
    "    if x in cut_types:\n",
    "        return cut_types.index(x)\n",
    "diamonds['cut'] = diamonds['cut'].apply(cut_mod)\n",
    "diamonds.head()"
   ]
  },
  {
   "cell_type": "code",
   "execution_count": 4,
   "metadata": {},
   "outputs": [],
   "source": [
    "test_data = diamonds[:40440] # 75% of rows\n",
    "train_data = diamonds[40440:]"
   ]
  },
  {
   "cell_type": "code",
   "execution_count": 6,
   "metadata": {},
   "outputs": [],
   "source": [
    "import statsmodels.api as sm\n",
    "X = test_data[['carat','color','cut','clarity']]\n",
    "y = test_data['price']"
   ]
  },
  {
   "cell_type": "code",
   "execution_count": 7,
   "metadata": {},
   "outputs": [],
   "source": [
    "model = sm.OLS(y,X).fit()"
   ]
  },
  {
   "cell_type": "code",
   "execution_count": 8,
   "metadata": {},
   "outputs": [
    {
     "output_type": "execute_result",
     "data": {
      "text/plain": [
       "<class 'statsmodels.iolib.summary.Summary'>\n",
       "\"\"\"\n",
       "                                 OLS Regression Results                                \n",
       "=======================================================================================\n",
       "Dep. Variable:                  price   R-squared (uncentered):                   0.914\n",
       "Model:                            OLS   Adj. R-squared (uncentered):              0.914\n",
       "Method:                 Least Squares   F-statistic:                          1.072e+05\n",
       "Date:                Mon, 23 Nov 2020   Prob (F-statistic):                        0.00\n",
       "Time:                        15:49:51   Log-Likelihood:                     -3.6210e+05\n",
       "No. Observations:               40440   AIC:                                  7.242e+05\n",
       "Df Residuals:                   40436   BIC:                                  7.242e+05\n",
       "Df Model:                           4                                                  \n",
       "Covariance Type:            nonrobust                                                  \n",
       "==============================================================================\n",
       "                 coef    std err          t      P>|t|      [0.025      0.975]\n",
       "------------------------------------------------------------------------------\n",
       "carat       6852.4059     14.707    465.920      0.000    6823.579    6881.232\n",
       "color       -102.7221      4.681    -21.946      0.000    -111.896     -93.548\n",
       "cut         -421.0998      7.451    -56.515      0.000    -435.704    -406.495\n",
       "clarity      158.0332      5.330     29.651      0.000     147.587     168.480\n",
       "==============================================================================\n",
       "Omnibus:                    10884.614   Durbin-Watson:                   0.800\n",
       "Prob(Omnibus):                  0.000   Jarque-Bera (JB):            49213.711\n",
       "Skew:                           1.249   Prob(JB):                         0.00\n",
       "Kurtosis:                       7.792   Cond. No.                         9.18\n",
       "==============================================================================\n",
       "\n",
       "Warnings:\n",
       "[1] Standard Errors assume that the covariance matrix of the errors is correctly specified.\n",
       "\"\"\""
      ],
      "text/html": "<table class=\"simpletable\">\n<caption>OLS Regression Results</caption>\n<tr>\n  <th>Dep. Variable:</th>          <td>price</td>      <th>  R-squared (uncentered):</th>       <td>   0.914</td>  \n</tr>\n<tr>\n  <th>Model:</th>                   <td>OLS</td>       <th>  Adj. R-squared (uncentered):</th>  <td>   0.914</td>  \n</tr>\n<tr>\n  <th>Method:</th>             <td>Least Squares</td>  <th>  F-statistic:       </th>           <td>1.072e+05</td> \n</tr>\n<tr>\n  <th>Date:</th>             <td>Mon, 23 Nov 2020</td> <th>  Prob (F-statistic):</th>            <td>  0.00</td>   \n</tr>\n<tr>\n  <th>Time:</th>                 <td>15:49:51</td>     <th>  Log-Likelihood:    </th>          <td>-3.6210e+05</td>\n</tr>\n<tr>\n  <th>No. Observations:</th>      <td> 40440</td>      <th>  AIC:               </th>           <td>7.242e+05</td> \n</tr>\n<tr>\n  <th>Df Residuals:</th>          <td> 40436</td>      <th>  BIC:               </th>           <td>7.242e+05</td> \n</tr>\n<tr>\n  <th>Df Model:</th>              <td>     4</td>      <th>                     </th>               <td> </td>     \n</tr>\n<tr>\n  <th>Covariance Type:</th>      <td>nonrobust</td>    <th>                     </th>               <td> </td>     \n</tr>\n</table>\n<table class=\"simpletable\">\n<tr>\n     <td></td>        <th>coef</th>     <th>std err</th>      <th>t</th>      <th>P>|t|</th>  <th>[0.025</th>    <th>0.975]</th>  \n</tr>\n<tr>\n  <th>carat</th>   <td> 6852.4059</td> <td>   14.707</td> <td>  465.920</td> <td> 0.000</td> <td> 6823.579</td> <td> 6881.232</td>\n</tr>\n<tr>\n  <th>color</th>   <td> -102.7221</td> <td>    4.681</td> <td>  -21.946</td> <td> 0.000</td> <td> -111.896</td> <td>  -93.548</td>\n</tr>\n<tr>\n  <th>cut</th>     <td> -421.0998</td> <td>    7.451</td> <td>  -56.515</td> <td> 0.000</td> <td> -435.704</td> <td> -406.495</td>\n</tr>\n<tr>\n  <th>clarity</th> <td>  158.0332</td> <td>    5.330</td> <td>   29.651</td> <td> 0.000</td> <td>  147.587</td> <td>  168.480</td>\n</tr>\n</table>\n<table class=\"simpletable\">\n<tr>\n  <th>Omnibus:</th>       <td>10884.614</td> <th>  Durbin-Watson:     </th> <td>   0.800</td> \n</tr>\n<tr>\n  <th>Prob(Omnibus):</th>  <td> 0.000</td>   <th>  Jarque-Bera (JB):  </th> <td>49213.711</td>\n</tr>\n<tr>\n  <th>Skew:</th>           <td> 1.249</td>   <th>  Prob(JB):          </th> <td>    0.00</td> \n</tr>\n<tr>\n  <th>Kurtosis:</th>       <td> 7.792</td>   <th>  Cond. No.          </th> <td>    9.18</td> \n</tr>\n</table><br/><br/>Warnings:<br/>[1] Standard Errors assume that the covariance matrix of the errors is correctly specified."
     },
     "metadata": {},
     "execution_count": 8
    }
   ],
   "source": [
    "model.summary()"
   ]
  },
  {
   "cell_type": "code",
   "execution_count": 9,
   "metadata": {},
   "outputs": [
    {
     "output_type": "execute_result",
     "data": {
      "text/plain": [
       "40440    1852.425929\n",
       "40441    1852.425929\n",
       "40442    1852.425929\n",
       "40443    2855.097852\n",
       "40444     935.315076\n",
       "            ...     \n",
       "53915    2949.066670\n",
       "53916    4212.366045\n",
       "53917    3654.218135\n",
       "53918    4582.358642\n",
       "53919    2996.605638\n",
       "Length: 13480, dtype: float64"
      ]
     },
     "metadata": {},
     "execution_count": 9
    }
   ],
   "source": [
    "model.predict(train_data[['carat','color','cut','clarity']])"
   ]
  },
  {
   "cell_type": "code",
   "execution_count": 10,
   "metadata": {},
   "outputs": [
    {
     "output_type": "execute_result",
     "data": {
      "text/plain": [
       "       carat  cut  color  clarity  depth  table  price     x     y     z  \\\n",
       "40440   0.50    4      2        2   62.1   58.0   1140  5.04  5.07  3.14   \n",
       "40441   0.50    4      2        2   62.5   57.0   1140  5.06  5.08  3.17   \n",
       "40442   0.50    4      2        2   62.0   56.0   1140  5.08  5.11  3.16   \n",
       "40443   0.53    1      5        1   57.9   58.0   1140  5.34  5.39  3.11   \n",
       "40444   0.38    4      6        4   62.5   56.0   1140  4.67  4.64  2.91   \n",
       "\n",
       "           predict  \n",
       "40440  1852.425929  \n",
       "40441  1852.425929  \n",
       "40442  1852.425929  \n",
       "40443  2855.097852  \n",
       "40444   935.315076  "
      ],
      "text/html": "<div>\n<style scoped>\n    .dataframe tbody tr th:only-of-type {\n        vertical-align: middle;\n    }\n\n    .dataframe tbody tr th {\n        vertical-align: top;\n    }\n\n    .dataframe thead th {\n        text-align: right;\n    }\n</style>\n<table border=\"1\" class=\"dataframe\">\n  <thead>\n    <tr style=\"text-align: right;\">\n      <th></th>\n      <th>carat</th>\n      <th>cut</th>\n      <th>color</th>\n      <th>clarity</th>\n      <th>depth</th>\n      <th>table</th>\n      <th>price</th>\n      <th>x</th>\n      <th>y</th>\n      <th>z</th>\n      <th>predict</th>\n    </tr>\n  </thead>\n  <tbody>\n    <tr>\n      <th>40440</th>\n      <td>0.50</td>\n      <td>4</td>\n      <td>2</td>\n      <td>2</td>\n      <td>62.1</td>\n      <td>58.0</td>\n      <td>1140</td>\n      <td>5.04</td>\n      <td>5.07</td>\n      <td>3.14</td>\n      <td>1852.425929</td>\n    </tr>\n    <tr>\n      <th>40441</th>\n      <td>0.50</td>\n      <td>4</td>\n      <td>2</td>\n      <td>2</td>\n      <td>62.5</td>\n      <td>57.0</td>\n      <td>1140</td>\n      <td>5.06</td>\n      <td>5.08</td>\n      <td>3.17</td>\n      <td>1852.425929</td>\n    </tr>\n    <tr>\n      <th>40442</th>\n      <td>0.50</td>\n      <td>4</td>\n      <td>2</td>\n      <td>2</td>\n      <td>62.0</td>\n      <td>56.0</td>\n      <td>1140</td>\n      <td>5.08</td>\n      <td>5.11</td>\n      <td>3.16</td>\n      <td>1852.425929</td>\n    </tr>\n    <tr>\n      <th>40443</th>\n      <td>0.53</td>\n      <td>1</td>\n      <td>5</td>\n      <td>1</td>\n      <td>57.9</td>\n      <td>58.0</td>\n      <td>1140</td>\n      <td>5.34</td>\n      <td>5.39</td>\n      <td>3.11</td>\n      <td>2855.097852</td>\n    </tr>\n    <tr>\n      <th>40444</th>\n      <td>0.38</td>\n      <td>4</td>\n      <td>6</td>\n      <td>4</td>\n      <td>62.5</td>\n      <td>56.0</td>\n      <td>1140</td>\n      <td>4.67</td>\n      <td>4.64</td>\n      <td>2.91</td>\n      <td>935.315076</td>\n    </tr>\n  </tbody>\n</table>\n</div>"
     },
     "metadata": {},
     "execution_count": 10
    }
   ],
   "source": [
    "train_data['predict'] = model.predict(train_data[['carat','color','cut','clarity']])\n",
    "train_data.head()"
   ]
  },
  {
   "cell_type": "code",
   "execution_count": 12,
   "metadata": {},
   "outputs": [
    {
     "output_type": "execute_result",
     "data": {
      "text/plain": [
       "7647.03"
      ]
     },
     "metadata": {},
     "execution_count": 12
    }
   ],
   "source": [
    "# test the model for 1 diamond\n",
    "# color = J (worst)=0, I=1, H=2, G=3, F=4 E,=5 D (best) = 6\n",
    "# cut_types = ['Fair'=0, 'Good',=1 'Very Good'=2, 'Premium'=3, 'Ideal'=4]\n",
    "# clarity: 'I1'=0,'SI2'=1, 'SI1'=2, 'VS2'=3, 'VS1'=4, 'VVS2'=5, 'VVS1'=6, 'IF'=7\n",
    "\n",
    "a=pd.DataFrame([{'carat':1.200,'color':1,'cut':3,'clarity':5}])\n",
    "round(model.predict(a)[0],2)"
   ]
  },
  {
   "cell_type": "code",
   "execution_count": 14,
   "metadata": {},
   "outputs": [
    {
     "output_type": "execute_result",
     "data": {
      "text/plain": [
       "0.9042434114361997"
      ]
     },
     "metadata": {},
     "execution_count": 14
    }
   ],
   "source": [
    "from sklearn.linear_model import LinearRegression\n",
    "\n",
    "reg = LinearRegression()\n",
    "reg.fit(X, y)\n",
    "reg.score(X, y)"
   ]
  },
  {
   "cell_type": "code",
   "execution_count": 11,
   "metadata": {},
   "outputs": [],
   "source": [
    "pickle.dump(model, open('model.pkl','wb'))"
   ]
  },
  {
   "source": [
    "## Decision tree regression"
   ],
   "cell_type": "markdown",
   "metadata": {}
  },
  {
   "cell_type": "code",
   "execution_count": 7,
   "metadata": {},
   "outputs": [],
   "source": [
    "features = diamonds[['carat','color','cut','clarity']]\n",
    "labels = diamonds['price']"
   ]
  },
  {
   "cell_type": "code",
   "execution_count": 8,
   "metadata": {},
   "outputs": [],
   "source": [
    "from sklearn.model_selection import train_test_split\n",
    "X_train, X_test, y_train, y_test = train_test_split(features,labels, test_size=0.25, random_state=1)"
   ]
  },
  {
   "cell_type": "code",
   "execution_count": 9,
   "metadata": {},
   "outputs": [
    {
     "output_type": "execute_result",
     "data": {
      "text/plain": [
       "0.9732755444916767"
      ]
     },
     "metadata": {},
     "execution_count": 9
    }
   ],
   "source": [
    "from sklearn.tree import DecisionTreeRegressor\n",
    "regr = DecisionTreeRegressor()\n",
    "\n",
    "model = regr.fit(X_train, y_train)\n",
    "regr.score(X_test, y_test)"
   ]
  },
  {
   "cell_type": "code",
   "execution_count": 13,
   "metadata": {},
   "outputs": [],
   "source": [
    "y_pred = model.predict(X_test)"
   ]
  },
  {
   "cell_type": "code",
   "execution_count": 11,
   "metadata": {},
   "outputs": [
    {
     "output_type": "stream",
     "name": "stdout",
     "text": [
      "{'fit_time': array([0.05884004, 0.05387402, 0.0578804 , 0.05187559, 0.05086255]), 'score_time': array([0.00396657, 0.00397444, 0.00299191, 0.00499201, 0.0039897 ]), 'test_score': array([0.97215592, 0.97062121, 0.97232015, 0.97136581, 0.9717837 ])}\n"
     ]
    }
   ],
   "source": [
    "# cross validation\n",
    "\n",
    "from sklearn.model_selection import cross_validate\n",
    "\n",
    "print(cross_validate(model,X_train, y_train, cv=5)) # checking for overfitting"
   ]
  },
  {
   "cell_type": "code",
   "execution_count": 12,
   "metadata": {},
   "outputs": [
    {
     "output_type": "stream",
     "name": "stdout",
     "text": [
      "test data accuracy was  0.9732755444916767\nR-squared 0.9732755444916767\n"
     ]
    }
   ],
   "source": [
    "from sklearn import metrics\n",
    "from sklearn.metrics import r2_score\n",
    "\n",
    "print(\"test data accuracy was \",model.score(X_test,y_test))\n",
    "print('R-squared',r2_score(y_test, y_pred))"
   ]
  },
  {
   "cell_type": "code",
   "execution_count": 14,
   "metadata": {},
   "outputs": [],
   "source": [
    "pickle.dump(model, open('model.pkl','wb'))"
   ]
  },
  {
   "cell_type": "code",
   "execution_count": null,
   "metadata": {},
   "outputs": [],
   "source": []
  }
 ]
}